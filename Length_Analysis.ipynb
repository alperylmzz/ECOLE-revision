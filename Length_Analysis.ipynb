{
 "cells": [
  {
   "attachments": {},
   "cell_type": "markdown",
   "metadata": {},
   "source": [
    "# sINDEL.MDKT.superSet Length Analysis"
   ]
  },
  {
   "cell_type": "code",
   "execution_count": null,
   "metadata": {},
   "outputs": [],
   "source": [
    "import numpy as np\n",
    "import os\n",
    "from sklearn.metrics import confusion_matrix as cm\n",
    "from tqdm import tqdm\n",
    "import pandas as pd\n",
    "import matplotlib.pyplot as plt "
   ]
  },
  {
   "cell_type": "code",
   "execution_count": 66,
   "metadata": {},
   "outputs": [
    {
     "name": "stdout",
     "output_type": "stream",
     "text": [
      "         0          1            2   3      4  5                    6   \\\n",
      "0      chr1      36890            .  CT      C  .  Tier4C;Unclassified   \n",
      "1      chr1      62297  rs544370662   T  TCTTC  .  Tier4C;Unclassified   \n",
      "2      chr1      77849            .   A    ATG  .  Tier4C;Unclassified   \n",
      "3      chr1      83120            .   A  ATAAC  .  Tier4C;Unclassified   \n",
      "4      chr1      89763            .   G   GAAT  .  Tier4C;Unclassified   \n",
      "...     ...        ...          ...  ..    ... ..                  ...   \n",
      "19906  chrX  155991517            .  GT      G  .  Tier4C;Unclassified   \n",
      "19907  chrX  155992300            .   C     CT  .  Tier4C;Unclassified   \n",
      "19908  chrX  156002347            .  CA      C  .      Tier1C;HighConf   \n",
      "19909  chrX  156014317            .   T     TA  .  Tier4C;Unclassified   \n",
      "19910  chrX  156029656            .  TA      T  .  Tier4C;Unclassified   \n",
      "\n",
      "                                                      7   \\\n",
      "0      calledSamples=NS_T_3.bowtie,NS_T_4.bowtie,NS_T...   \n",
      "1      calledSamples=EA_T_1.bowtie;rejectedSamples=.;...   \n",
      "2      calledSamples=NV_T_2.bowtie;rejectedSamples=.;...   \n",
      "3      calledSamples=IL_T_3.bowtie,NS_T_4.bowtie,NV_T...   \n",
      "4      calledSamples=NS_T_9.bowtie;rejectedSamples=.;...   \n",
      "...                                                  ...   \n",
      "19906  calledSamples=FD_T_1.bwa,NV_T_3.bwa;rejectedSa...   \n",
      "19907  calledSamples=EA_T_1.bwa,FD_T_1.bwa,NS_T_9.bwa...   \n",
      "19908  calledSamples=EA_T_1.bwa,FD_T_2.bwa,IL_T_2.bwa...   \n",
      "19909  calledSamples=FD_T_1.novo;rejectedSamples=EA_T...   \n",
      "19910  calledSamples=IL_T_2.bwa,NS_T_2.novo,NV_T_2.no...   \n",
      "\n",
      "                                                      8   \\\n",
      "0      GT:CD4:DP4:MDKT:MQ0:NUM_TOOLS:SCORE:VAF:altBQ:...   \n",
      "1      GT:CD4:DP4:MDKT:MQ0:NUM_TOOLS:SCORE:VAF:altBQ:...   \n",
      "2      GT:CD4:DP4:MDKT:MQ0:NUM_TOOLS:SCORE:VAF:altBQ:...   \n",
      "3      GT:CD4:DP4:MDKT:MQ0:NUM_TOOLS:SCORE:VAF:altBQ:...   \n",
      "4      GT:CD4:DP4:MDKT:MQ0:NUM_TOOLS:SCORE:VAF:altBQ:...   \n",
      "...                                                  ...   \n",
      "19906  GT:CD4:DP4:MDKT:MQ0:NUM_TOOLS:SCORE:VAF:altBQ:...   \n",
      "19907  GT:CD4:DP4:MDKT:MQ0:NUM_TOOLS:SCORE:VAF:altBQ:...   \n",
      "19908  GT:CD4:DP4:MDKT:MQ0:NUM_TOOLS:SCORE:VAF:altBQ:...   \n",
      "19909  GT:CD4:DP4:MDKT:MQ0:NUM_TOOLS:SCORE:VAF:altBQ:...   \n",
      "19910  GT:CD4:DP4:MDKT:MQ0:NUM_TOOLS:SCORE:VAF:altBQ:...   \n",
      "\n",
      "                                                      9   ...  \\\n",
      "0      0/0:0,0,0,0:0,0,0,0:.:7:0:.:0:39.1:0:1:1:1:.:....  ...   \n",
      "1      0/0:1,0,0,0:1,0,0,0:.:0:0:.:0:.:.:.:1:1:37:7:0...  ...   \n",
      "2      0/0:0,0,0,0:0,0,0,0:.:1:0:.:0:.:.:.:1:1:41:0:0...  ...   \n",
      "3      0/0:1,0,0,0:1,0,0,0:.:0:0:.:0:.:.:.:1:1:41:50:...  ...   \n",
      "4          0/0:0,0,0,0:0,0,0,0:.:0:0:.:0:.:.:.:1:1:.:.:.  ...   \n",
      "...                                                  ...  ...   \n",
      "19906  0/1:21,0,10,0:12,9,2,8:0,0,0,0:1:0:0.0007:0.32...  ...   \n",
      "19907  0/1:7,0,33,0:6,1,12,21:1,1,1,1:0:4:11.2199:0.8...  ...   \n",
      "19908  0/1:7,0,26,1:4,3,15,12:1,1,1,1:1:4:16.8183:0.7...  ...   \n",
      "19909  0/1:14,0,11,1:11,3,7,5:0,1,1,0:12:2:0.2264:0.4...  ...   \n",
      "19910  0/0:6,0,21,1:3,3,13,9:.:2:0:.:0.733:39.9:26.5:...  ...   \n",
      "\n",
      "                                                      65  \\\n",
      "0      0/0:0,0,0,0:0,0,0,0:.:0:0:.:0:.:.:.:1:1:.:.:.:.:.   \n",
      "1      0/0:0,0,0,0:0,0,0,0:.:0:0:.:0:.:.:.:1:1:.:.:.:.:.   \n",
      "2      0/0:0,0,0,0:0,0,0,0:.:0:0:.:0:.:.:.:1:1:.:.:.:.:.   \n",
      "3      0/0:0,0,0,0:0,0,0,0:.:0:0:.:0:.:.:.:1:1:.:.:.:.:.   \n",
      "4          0/0:0,0,0,0:0,0,0,0:.:0:0:.:0:.:.:.:1:1:.:.:.   \n",
      "...                                                  ...   \n",
      "19906  0/1:9,0,9,0:4,5,5,4:0,1,1,0:0:2:0.4359:0.5:33....   \n",
      "19907  0/1:10,0,32,0:5,5,17,15:0,1,1,0:0:2:2.9096:0.7...   \n",
      "19908  0/1:10,0,26,0:8,2,14,12:1,1,1,0:0:3:19.3097:0....   \n",
      "19909  0/1:8,0,6,0:5,3,3,3:0,1,1,0:0:2:1.0188:0.429:3...   \n",
      "19910  0/0:1,0,16,0:0,1,8,8:.:0:0:.:0.941:37:50.6:1:1...   \n",
      "\n",
      "                                                      66  \\\n",
      "0      0/0:0,0,0,0:0,0,0,0:.:0:0:.:0:.:.:.:1:1:.:.:.:.:.   \n",
      "1      0/0:0,0,0,0:0,0,0,0:.:0:0:.:0:.:.:.:1:1:.:.:.:.:.   \n",
      "2      0/0:2,0,0,0:2,0,0,0:.:0:0:.:0:.:.:.:1:1:37:44....   \n",
      "3      0/0:0,0,0,0:0,0,0,0:.:0:0:.:0:.:.:.:1:1:.:.:.:.:.   \n",
      "4          0/0:0,0,0,0:0,0,0,0:.:0:0:.:0:.:.:.:1:1:.:.:.   \n",
      "...                                                  ...   \n",
      "19906  0/1:15,0,2,0:6,9,0,2:0,0,0,0:0:0:0.0002:0.118:...   \n",
      "19907  0/1:8,0,16,0:5,3,5,11:0,1,1,0:0:2:0.2456:0.667...   \n",
      "19908  0/1:6,0,23,0:3,3,10,13:0,0,1,0:0:1:0.0533:0.79...   \n",
      "19909  0/0:14,0,3,0:11,3,3,0:.:0:0:.:0.176:37:31:1:1:...   \n",
      "19910  1/1:2,0,16,1:1,1,13,4:0,1,0,0:0:1:2.0231:0.895...   \n",
      "\n",
      "                                                      67  \\\n",
      "0      0/0:0,0,0,0:0,0,0,0:.:0:0:.:0:.:.:.:1:1:.:.:.:.:.   \n",
      "1      0/0:0,0,0,0:0,0,0,0:.:0:0:.:0:.:.:.:1:1:.:.:.:.:.   \n",
      "2      0/0:0,0,0,0:0,0,0,0:.:0:0:.:0:.:.:.:1:1:.:.:.:.:.   \n",
      "3      0/0:0,0,0,0:0,0,0,0:.:0:0:.:0:.:.:.:1:1:.:.:.:.:.   \n",
      "4          0/0:0,0,0,0:0,0,0,0:.:0:0:.:0:.:.:.:1:1:.:.:.   \n",
      "...                                                  ...   \n",
      "19906  0/0:11,0,1,0:4,7,1,0:.:0:0:.:0.0833:37:70:1:1:...   \n",
      "19907  0/1:9,0,18,0:6,3,12,6:0,1,1,1:0:3:0.1918:0.667...   \n",
      "19908  0/1:10,0,12,0:7,3,7,5:0,1,1,1:0:3:6.1972:0.545...   \n",
      "19909  0/1:10,0,4,0:7,3,2,2:0,0,0,0:0:0:0.0000:0.286:...   \n",
      "19910  0/0:4,0,14,0:2,2,9,5:.:0:0:.:0.778:37:45.5:1:1...   \n",
      "\n",
      "                                                      68  \\\n",
      "0      0/0:0,0,0,0:0,0,0,0:.:0:0:.:0:.:.:.:1:1:.:.:.:.:.   \n",
      "1      0/0:1,0,0,0:1,0,0,0:.:0:0:.:0:.:.:.:1:1:37:30:...   \n",
      "2      0/0:0,0,0,0:0,0,0,0:.:0:0:.:0:.:.:.:1:1:.:.:.:.:.   \n",
      "3      0/0:0,0,0,0:0,0,0,0:.:0:0:.:0:.:.:.:1:1:.:.:.:.:.   \n",
      "4          0/0:0,0,0,0:0,0,0,0:.:0:0:.:0:.:.:.:1:1:.:.:.   \n",
      "...                                                  ...   \n",
      "19906  0/1:9,0,10,0:2,7,5,5:0,1,1,0:0:2:1.4946:0.526:...   \n",
      "19907  0/1:4,0,17,0:2,2,9,8:0,1,1,0:0:2:1.2920:0.81:3...   \n",
      "19908  0/1:10,0,15,0:8,2,6,9:1,1,1,0:0:3:6.8973:0.6:3...   \n",
      "19909  0/1:8,0,5,0:5,3,2,3:1,1,1,0:0:3:2.9956:0.385:3...   \n",
      "19910  0/1:3,0,8,0:0,3,7,1:0,1,0,0:0:1:0.0001:0.727:3...   \n",
      "\n",
      "                                                      69  \\\n",
      "0      0/0:0,0,0,0:0,0,0,0:.:0:0:.:0:.:.:.:1:1:.:.:.:.:.   \n",
      "1      0/0:0,0,0,0:0,0,0,0:.:0:0:.:0:.:.:.:1:1:.:.:.:.:.   \n",
      "2      0/0:0,0,0,0:0,0,0,0:.:0:0:.:0:.:.:.:1:1:.:.:.:.:.   \n",
      "3      0/0:0,0,0,0:0,0,0,0:.:0:0:.:0:.:.:.:1:1:.:.:.:.:.   \n",
      "4          0/0:0,0,0,0:0,0,0,0:.:0:0:.:0:.:.:.:1:1:.:.:.   \n",
      "...                                                  ...   \n",
      "19906  0/1:29,1,9,0:20,10,1,8:0,0,0,0:0:0:0.0039:0.23...   \n",
      "19907  0/1:27,0,11,0:19,8,8,3:0,0,0,1:0:1:0.0003:0.28...   \n",
      "19908  0/1:11,0,26,1:3,8,7,20:1,1,1,1:0:4:38.1235:0.7...   \n",
      "19909  0/0:19,0,6,0:14,5,5,1:.:0:0:.:0.214:33.3:31.2:...   \n",
      "19910  0/0:3,0,23,0:0,3,9,14:.:0:0:.:0.885:40.3:46:1....   \n",
      "\n",
      "                                                      70  \\\n",
      "0      0/0:0,0,0,0:0,0,0,0:.:0:0:.:0:.:.:.:1:1:.:.:.:.:.   \n",
      "1      0/0:1,0,0,0:1,0,0,0:.:0:0:.:0:.:.:.:1:1:41:31:...   \n",
      "2      0/0:1,0,0,0:0,1,0,0:.:0:0:.:0:.:.:.:1:1:41:61:...   \n",
      "3      0/0:0,0,0,0:0,0,0,0:.:0:0:.:0:.:.:.:1:1:.:.:.:.:.   \n",
      "4          0/0:0,0,0,0:0,0,0,0:.:0:0:.:0:.:.:.:1:1:.:.:.   \n",
      "...                                                  ...   \n",
      "19906  0/0:30,0,4,0:19,11,0,4:.:0:0:.:0.118:32:70:2.7...   \n",
      "19907  0/1:13,0,27,0:8,5,20,7:0,1,1,1:0:3:0.0235:0.67...   \n",
      "19908  0/1:8,0,39,0:5,3,15,24:1,1,1,1:0:4:32.5519:0.8...   \n",
      "19909  0/1:13,0,11,0:9,4,8,3:1,0,0,0:0:1:0.5423:0.458...   \n",
      "19910  1/1:3,0,22,3:1,2,19,6:0,1,0,0:0:1:7.7463:0.893...   \n",
      "\n",
      "                                                      71  \\\n",
      "0      0/0:0,0,0,0:0,0,0,0:.:0:0:.:0:.:.:.:1:1:.:.:.:.:.   \n",
      "1      0/0:0,0,0,0:0,0,0,0:.:0:0:.:0:.:.:.:1:1:.:.:.:.:.   \n",
      "2      0/0:0,0,0,0:0,0,0,0:.:0:0:.:0:.:.:.:1:1:.:.:.:.:.   \n",
      "3      0/0:0,0,0,0:0,0,0,0:.:0:0:.:0:.:.:.:1:1:.:.:.:.:.   \n",
      "4          0/0:0,0,0,0:0,0,0,0:.:0:0:.:0:.:.:.:1:1:.:.:.   \n",
      "...                                                  ...   \n",
      "19906  0/1:27,0,4,0:18,9,0,4:1,0,0,0:0:1:0.0098:0.129...   \n",
      "19907  0/1:21,1,20,0:16,6,15,5:0,1,1,1:0:3:4.6875:0.4...   \n",
      "19908  0/1:6,0,28,0:2,4,14,14:1,1,1,1:0:4:35.2669:0.8...   \n",
      "19909  0/1:19,0,10,0:16,3,8,2:0,0,0,0:0:0:0.0348:0.34...   \n",
      "19910  1/1:2,1,25,1:2,1,13,13:0,1,0,0:0:1:1.5838:0.89...   \n",
      "\n",
      "                                             72  \\\n",
      "0             0/0:0,0,0,0:0,0,0,0:.:0:.:.:0.000   \n",
      "1             0/0:0,0,0,0:0,0,0,0:.:0:.:.:0.000   \n",
      "2             0/0:0,0,0,0:0,0,0,0:.:0:.:.:0.000   \n",
      "3             0/0:0,0,0,0:0,0,0,0:.:0:.:.:0.000   \n",
      "4             0/0:0,0,0,0:0,0,0,0:.:0:.:.:0.000   \n",
      "...                                         ...   \n",
      "19906   0/0:245,3,1,1:105,143,1,0:.:7:.:.:0.004   \n",
      "19907     0/0:105,2,1,1:68,39,0,1:.:2:.:.:0.009   \n",
      "19908   0/0:410,1,2,2:202,209,1,1:.:0:.:.:0.005   \n",
      "19909  0/0:368,9,2,2:283,94,1,1:.:240:.:.:0.005   \n",
      "19910       0/0:25,4,0,0:9,20,0,0:.:9:.:.:0.000   \n",
      "\n",
      "                                             73  \\\n",
      "0        0/1:103,20,2,2:54,69,1,1:.:0:.:.:0.016   \n",
      "1          0/0:31,8,0,0:24,15,0,0:.:0:.:.:0.000   \n",
      "2          0/0:63,8,0,0:43,28,0,0:.:0:.:.:0.000   \n",
      "3        0/1:109,22,2,2:71,60,1,1:.:0:.:.:0.015   \n",
      "4            0/0:17,1,0,0:9,9,0,0:.:0:.:.:0.000   \n",
      "...                                         ...   \n",
      "19906   0/0:208,34,1,1:94,148,1,0:.:4:.:.:0.004   \n",
      "19907     0/1:96,19,2,2:77,38,1,1:.:2:.:.:0.017   \n",
      "19908  0/0:319,68,0,0:189,198,0,0:.:1:.:.:0.000   \n",
      "19909  0/0:608,90,3,3:450,248,1,4:.:8:.:.:0.007   \n",
      "19910         0/0:2,2,0,0:1,3,0,0:.:1:.:.:0.000   \n",
      "\n",
      "                                            74  \n",
      "0            0/0:0,0,0,0:0,0,0,0:.:0:.:.:0.000  \n",
      "1            0/0:0,0,0,0:0,0,0,0:.:0:.:.:0.000  \n",
      "2            0/0:0,0,0,0:0,0,0,0:.:0:.:.:0.000  \n",
      "3            0/0:0,0,0,0:0,0,0,0:.:0:.:.:0.000  \n",
      "4            0/0:0,0,0,0:0,0,0,0:.:0:.:.:0.000  \n",
      "...                                        ...  \n",
      "19906  0/0:243,4,1,1:104,143,1,0:.:0:.:.:0.004  \n",
      "19907    0/1:114,0,2,2:78,36,1,1:.:0:.:.:0.017  \n",
      "19908  0/0:406,4,2,2:203,207,1,1:.:0:.:.:0.005  \n",
      "19909  0/0:306,12,3,3:230,88,2,1:.:0:.:.:0.009  \n",
      "19910     0/1:22,0,1,1:10,12,1,0:.:0:.:.:0.043  \n",
      "\n",
      "[19911 rows x 75 columns]\n"
     ]
    }
   ],
   "source": [
    "cur_dirname = os.getcwd()\n",
    "path = cur_dirname+\"/sINDEL.MDKT.superSet.v1.2.vcf/sINDEL.MDKT.superSet.v1.2.vcf\"\n",
    "superSet = pd.read_csv(path, sep='\\t',comment='#',header=None)\n",
    "print(superSet)"
   ]
  },
  {
   "cell_type": "code",
   "execution_count": 67,
   "metadata": {},
   "outputs": [],
   "source": [
    "refSeq = superSet[3]\n",
    "altSeq = superSet[4]"
   ]
  },
  {
   "cell_type": "code",
   "execution_count": 68,
   "metadata": {},
   "outputs": [],
   "source": [
    "delLength = []\n",
    "insLength = []\n",
    "\n",
    "for i in range(len(refSeq)):\n",
    "    ref = refSeq[i]\n",
    "    alt = altSeq[i]\n",
    "    if(ref.startswith(alt)): # Del\n",
    "        delLength.append(len(ref[len(alt):]))\n",
    "    elif(alt.startswith(ref)): # Ins\n",
    "        insLength.append(len(alt[len(ref):]))\n",
    "    else:\n",
    "        print(ref + \" - \"+ alt + \" \")"
   ]
  },
  {
   "cell_type": "code",
   "execution_count": 69,
   "metadata": {},
   "outputs": [
    {
     "data": {
      "image/png": "[encoded data removed]",
      "text/plain": [
       "<Figure size 1440x360 with 1 Axes>"
      ]
     },
     "metadata": {
      "needs_background": "light"
     },
     "output_type": "display_data"
    }
   ],
   "source": [
    "fig, ax = plt.subplots(figsize =(20, 5))\n",
    "ax.hist(delLength,bins=50)\n",
    "plt.ylabel(\"Count\")\n",
    "plt.xlabel(\"SV Length\")\n",
    "plt.title(\"SV <DEL> Length Histogram\")\n",
    "# Show plot\n",
    "plt.show()"
   ]
  },
  {
   "cell_type": "code",
   "execution_count": 70,
   "metadata": {},
   "outputs": [
    {
     "data": {
      "image/png": "[encoded data removed]",
      "text/plain": [
       "<Figure size 1440x360 with 1 Axes>"
      ]
     },
     "metadata": {
      "needs_background": "light"
     },
     "output_type": "display_data"
    }
   ],
   "source": [
    "fig, ax = plt.subplots(figsize =(20, 5))\n",
    "ax.hist(insLength,bins=50)\n",
    "plt.ylabel(\"Count\")\n",
    "plt.xlabel(\"SV Length\")\n",
    "plt.title(\"SV <INS> Length Histogram\")\n",
    "# Show plot\n",
    "plt.show()\n"
   ]
  }
 ],
 "metadata": {
  "kernelspec": {
   "display_name": "base",
   "language": "python",
   "name": "python3"
  },
  "language_info": {
   "codemirror_mode": {
    "name": "ipython",
    "version": 3
   },
   "file_extension": ".py",
   "mimetype": "text/x-python",
   "name": "python",
   "nbconvert_exporter": "python",
   "pygments_lexer": "ipython3",
   "version": "3.8.8"
  },
  "orig_nbformat": 4
 },
 "nbformat": 4,
 "nbformat_minor": 2
}
