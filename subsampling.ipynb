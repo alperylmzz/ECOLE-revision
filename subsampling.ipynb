{
 "cells": [
  {
   "cell_type": "code",
   "execution_count": 17,
   "metadata": {},
   "outputs": [],
   "source": [
    "SRR14724456_ecole = {}\n",
    "SRR14724455_ecole = {}\n",
    "SRR14724456_ecole_ft = {}\n",
    "SRR14724455_ecole_ft = {}\n"
   ]
  },
  {
   "attachments": {},
   "cell_type": "markdown",
   "metadata": {},
   "source": [
    "## SRR14724456 (NA12891)"
   ]
  },
  {
   "attachments": {},
   "cell_type": "markdown",
   "metadata": {},
   "source": [
    "### Complete"
   ]
  },
  {
   "cell_type": "code",
   "execution_count": 18,
   "metadata": {},
   "outputs": [],
   "source": [
    "\n",
    "SRR14724456_ecole[\"complete\"] = {\n",
    "\"deletion recall\": 0.00835300526602506,\n",
    "\"duplication recall\": 0.005124450951683748,\n",
    "\"deletion precision\": 0.1318051575931232,\n",
    "\"duplication precision\":  0.0065420560747663555,\n",
    "}\n",
    "\n",
    "\n",
    "SRR14724456_ecole_ft[\"complete\"] = {\n",
    "\"deletion recall\": 0.5255129834755765,\n",
    "\"duplication recall\": 0.13396778916544655,\n",
    "\"deletion precision\": 0.40962491153573954,\n",
    "\"duplication precision\":  0.10944976076555024\n",
    "}\n"
   ]
  },
  {
   "attachments": {},
   "cell_type": "markdown",
   "metadata": {},
   "source": [
    "### %80 Subsampled "
   ]
  },
  {
   "cell_type": "code",
   "execution_count": 19,
   "metadata": {},
   "outputs": [],
   "source": [
    "SRR14724456_ecole[\"%80\"] ={\n",
    "\"deletion recall\": 0.009987288905029961 ,\n",
    "\"duplication recall\": 0.005124450951683748 ,\n",
    "\"deletion precision\": 0.1280558789289872 ,\n",
    "\"duplication precision\":  0.005511811023622047 ,\n",
    "}\n",
    "\n",
    "SRR14724456_ecole_ft[\"%80\"] ={\n",
    "\"deletion recall\": 0.5216088614490648,\n",
    "\"duplication recall\": 0.1295754026354319,\n",
    "\"deletion precision\": 0.4027339642481598,\n",
    "\"duplication precision\":  0.09180497925311204\n",
    "}"
   ]
  },
  {
   "attachments": {},
   "cell_type": "markdown",
   "metadata": {},
   "source": [
    "### %60 Subsampled "
   ]
  },
  {
   "cell_type": "code",
   "execution_count": 20,
   "metadata": {},
   "outputs": [],
   "source": [
    "SRR14724456_ecole[\"%60\"] ={\n",
    "\"deletion recall\": 0.010259669511530779,\n",
    "\"duplication recall\": 0.005124450951683748,\n",
    "\"deletion precision\": 0.12811791383219956,\n",
    "\"duplication precision\":  0.005658852061438965\n",
    "}\n",
    "\n",
    "SRR14724456_ecole_ft[\"%60\"] ={\n",
    "\"deletion recall\": 0.5205193390230616,\n",
    "\"duplication recall\": 0.12445095168374817,\n",
    "\"deletion precision\": 0.39923398328690807,\n",
    "\"duplication precision\":  0.09219088937093275\n",
    "}"
   ]
  },
  {
   "attachments": {},
   "cell_type": "markdown",
   "metadata": {},
   "source": [
    "### %40 Subsampled "
   ]
  },
  {
   "cell_type": "code",
   "execution_count": 21,
   "metadata": {},
   "outputs": [],
   "source": [
    "SRR14724456_ecole[\"%40\"] ={\n",
    "\"deletion recall\": 0.010622843653531869,\n",
    "\"duplication recall\": 0.005124450951683748,\n",
    "\"deletion precision\": 0.12594187298170076,\n",
    "\"duplication precision\":  0.005897219882055603\n",
    "}\n",
    "SRR14724456_ecole_ft[\"%40\"] ={\n",
    "\"deletion recall\": 0.5197021972035591,\n",
    "\"duplication recall\": 0.10980966325036604,\n",
    "\"deletion precision\": 0.39719658594129487,\n",
    "\"duplication precision\":  0.09727626459143969\n",
    "}"
   ]
  },
  {
   "attachments": {},
   "cell_type": "markdown",
   "metadata": {},
   "source": [
    "## SRR14724455 (NA12892)"
   ]
  },
  {
   "attachments": {},
   "cell_type": "markdown",
   "metadata": {},
   "source": [
    "### Complete"
   ]
  },
  {
   "cell_type": "code",
   "execution_count": 22,
   "metadata": {},
   "outputs": [],
   "source": [
    "SRR14724455_ecole[\"complete\"]={\n",
    "\"deletion recall\": 0.012241419384829937,\n",
    "\"duplication recall\": 0.005718370264474625,\n",
    "\"deletion precision\": 0.1640706126687435,\n",
    "\"duplication precision\":  0.007575757575757576\n",
    "}\n",
    "\n",
    "SRR14724455_ecole_ft[\"complete\"]={\n",
    "\"deletion recall\": 0.90385062369257,\n",
    "\"duplication recall\": 0.8663330950679057,\n",
    "\"deletion precision\": 0.8140963014654571,\n",
    "\"duplication precision\":  0.6677685950413224\n",
    "}"
   ]
  },
  {
   "attachments": {},
   "cell_type": "markdown",
   "metadata": {},
   "source": [
    "### %80 Subsampled "
   ]
  },
  {
   "cell_type": "code",
   "execution_count": 23,
   "metadata": {},
   "outputs": [],
   "source": [
    "SRR14724455_ecole[\"%80\"]={\n",
    "\"deletion recall\": 0.012241419384829937,\n",
    "\"duplication recall\": 0.005718370264474625,\n",
    "\"deletion precision\": 0.14933837429111532,\n",
    "\"duplication precision\":  0.006309148264984227\n",
    "}\n",
    "\n",
    "SRR14724455_ecole_ft[\"%80\"]={\n",
    "\"deletion recall\": 0.9033857596652979,\n",
    "\"duplication recall\": 0.8620443173695497,\n",
    "\"deletion precision\": 0.8398156150965139,\n",
    "\"duplication precision\":  0.5627624825011666\n",
    "}"
   ]
  },
  {
   "attachments": {},
   "cell_type": "markdown",
   "metadata": {},
   "source": [
    "### %60 Subsampled "
   ]
  },
  {
   "cell_type": "code",
   "execution_count": 24,
   "metadata": {},
   "outputs": [],
   "source": [
    "SRR14724455_ecole[\"%60\"]={\n",
    "\"deletion recall\": 0.012783760749980631,\n",
    "\"duplication recall\": 0.005718370264474625,\n",
    "\"deletion precision\": 0.15434985968194576,\n",
    "\"duplication precision\":  0.006530612244897959 \n",
    "}\n",
    "\n",
    "SRR14724455_ecole_ft[\"%60\"]={\n",
    "\"deletion recall\": 0.905710079801658,\n",
    "\"duplication recall\": 0.7719799857040743,\n",
    "\"deletion precision\": 0.5158414967787486,\n",
    "\"duplication precision\":  0.5564142194744977\n",
    "}"
   ]
  },
  {
   "attachments": {},
   "cell_type": "markdown",
   "metadata": {},
   "source": [
    "### %40 Subsampled "
   ]
  },
  {
   "cell_type": "code",
   "execution_count": 25,
   "metadata": {},
   "outputs": [],
   "source": [
    "SRR14724455_ecole[\"%40\"]={\n",
    "\"deletion recall\": 0.012861238087859302,\n",
    "\"duplication recall\": 0.005003573981415297,\n",
    "\"deletion precision\": 0.15187557182067704,\n",
    "\"duplication precision\":  0.005902192242833052\n",
    "}\n",
    "\n",
    "SRR14724455_ecole_ft[\"%40\"]={\n",
    "\"deletion recall\": 0.9022235995971178,\n",
    "\"duplication recall\": 0.6897784131522516,\n",
    "\"deletion precision\": 0.5138784696174044,\n",
    "\"duplication precision\":  0.5590961761297798\n",
    "}"
   ]
  },
  {
   "attachments": {},
   "cell_type": "markdown",
   "metadata": {},
   "source": [
    "## Analysis"
   ]
  },
  {
   "cell_type": "code",
   "execution_count": 26,
   "metadata": {},
   "outputs": [],
   "source": [
    "from matplotlib import pyplot as plt\n",
    "\n",
    "\n",
    "def bar_plot(ax, data, colors=None, total_width=0.8, single_width=1, legend=True):\n",
    "    \"\"\"Draws a bar plot with multiple bars per data point.\n",
    "\n",
    "    Parameters\n",
    "    ----------\n",
    "    ax : matplotlib.pyplot.axis\n",
    "        The axis we want to draw our plot on.\n",
    "\n",
    "    data: dictionary\n",
    "        A dictionary containing the data we want to plot. Keys are the names of the\n",
    "        data, the items is a list of the values.\n",
    "\n",
    "        Example:\n",
    "        data = {\n",
    "            \"x\":[1,2,3],\n",
    "            \"y\":[1,2,3],\n",
    "            \"z\":[1,2,3],\n",
    "        }\n",
    "\n",
    "    colors : array-like, optional\n",
    "        A list of colors which are used for the bars. If None, the colors\n",
    "        will be the standard matplotlib color cyle. (default: None)\n",
    "\n",
    "    total_width : float, optional, default: 0.8\n",
    "        The width of a bar group. 0.8 means that 80% of the x-axis is covered\n",
    "        by bars and 20% will be spaces between the bars.\n",
    "\n",
    "    single_width: float, optional, default: 1\n",
    "        The relative width of a single bar within a group. 1 means the bars\n",
    "        will touch eachother within a group, values less than 1 will make\n",
    "        these bars thinner.\n",
    "\n",
    "    legend: bool, optional, default: True\n",
    "        If this is set to true, a legend will be added to the axis.\n",
    "    \"\"\"\n",
    "\n",
    "    # Check if colors where provided, otherwhise use the default color cycle\n",
    "    if colors is None:\n",
    "        colors = plt.rcParams['axes.prop_cycle'].by_key()['color']\n",
    "\n",
    "    # Number of bars per group\n",
    "    n_bars = len(data)\n",
    "\n",
    "    # The width of a single bar\n",
    "    bar_width = total_width / n_bars\n",
    "\n",
    "    # List containing handles for the drawn bars, used for the legend\n",
    "    bars = []\n",
    "\n",
    "    # Iterate over all data\n",
    "    for i, (name, values) in enumerate(data.items()):\n",
    "        # The offset in x direction of that bar\n",
    "        x_offset = (i - n_bars / 2) * bar_width + bar_width / 2\n",
    "\n",
    "        # Draw a bar for every value of that type\n",
    "        for x, y in enumerate(values):\n",
    "            bar = ax.bar(x + x_offset, y, width=bar_width * single_width, color=colors[i % len(colors)])\n",
    "\n",
    "        # Add a handle to the last drawn bar, which we'll need for the legend\n",
    "        bars.append(bar[0])\n",
    "\n",
    "    # Draw legend if we need\n",
    "    if legend:\n",
    "        ax.legend(bars, data.keys())\n",
    "    plt.xticks(range(4), [\"Deletion \\n Recall\", \"Duplication \\n Recall\", \"Deletion \\n Precision\", \"Duplication \\n Precision\"])"
   ]
  },
  {
   "cell_type": "code",
   "execution_count": 27,
   "metadata": {},
   "outputs": [
    {
     "data": {
      "image/png": "[encoded data removed]",
      "text/plain": [
       "<Figure size 432x288 with 1 Axes>"
      ]
     },
     "metadata": {
      "needs_background": "light"
     },
     "output_type": "display_data"
    }
   ],
   "source": [
    "# SRR14724456_ecole:\n",
    "data = {\n",
    "    \"100%\": [SRR14724456_ecole[\"complete\"][\"deletion recall\"], SRR14724456_ecole[\"complete\"][\"duplication recall\"],SRR14724456_ecole[\"complete\"][\"deletion precision\"], SRR14724456_ecole[\"complete\"][\"duplication precision\"]],\n",
    "    \"80%\": [SRR14724456_ecole[\"%80\"][\"deletion recall\"], SRR14724456_ecole[\"%80\"][\"duplication recall\"],SRR14724456_ecole[\"%80\"][\"deletion precision\"], SRR14724456_ecole[\"%80\"][\"duplication precision\"]],\n",
    "    \"60%\": [SRR14724456_ecole[\"%60\"][\"deletion recall\"], SRR14724456_ecole[\"%60\"][\"duplication recall\"],SRR14724456_ecole[\"%60\"][\"deletion precision\"], SRR14724456_ecole[\"%60\"][\"duplication precision\"]],\n",
    "    \"40%\": [SRR14724456_ecole[\"%40\"][\"deletion recall\"], SRR14724456_ecole[\"%40\"][\"duplication recall\"],SRR14724456_ecole[\"%40\"][\"deletion precision\"], SRR14724456_ecole[\"%40\"][\"duplication precision\"]],\n",
    "}\n",
    "\n",
    "fig, ax = plt.subplots()\n",
    "ax.set_title(\"NA12891 (SRR14724456_ecole)\")\n",
    "bar_plot(ax, data, total_width=.8, single_width=.9)\n",
    "plt.savefig(\"subsample_SRR14724456_ecole.pdf\")\n",
    "plt.show()"
   ]
  },
  {
   "cell_type": "code",
   "execution_count": 28,
   "metadata": {},
   "outputs": [
    {
     "data": {
      "image/png": "[encoded data removed]",
      "text/plain": [
       "<Figure size 432x288 with 1 Axes>"
      ]
     },
     "metadata": {
      "needs_background": "light"
     },
     "output_type": "display_data"
    }
   ],
   "source": [
    "# SRR14724455_ecole:\n",
    "data = {\n",
    "    \"100%\": [SRR14724455_ecole[\"complete\"][\"deletion recall\"], SRR14724455_ecole[\"complete\"][\"duplication recall\"],SRR14724455_ecole[\"complete\"][\"deletion precision\"], SRR14724455_ecole[\"complete\"][\"duplication precision\"]],\n",
    "    \"80%\": [SRR14724455_ecole[\"%80\"][\"deletion recall\"], SRR14724455_ecole[\"%80\"][\"duplication recall\"],SRR14724455_ecole[\"%80\"][\"deletion precision\"], SRR14724455_ecole[\"%80\"][\"duplication precision\"]],\n",
    "    \"60%\": [SRR14724455_ecole[\"%60\"][\"deletion recall\"], SRR14724455_ecole[\"%60\"][\"duplication recall\"],SRR14724455_ecole[\"%60\"][\"deletion precision\"], SRR14724455_ecole[\"%60\"][\"duplication precision\"]],\n",
    "    \"40%\": [SRR14724455_ecole[\"%40\"][\"deletion recall\"], SRR14724455_ecole[\"%40\"][\"duplication recall\"],SRR14724455_ecole[\"%40\"][\"deletion precision\"], SRR14724455_ecole[\"%40\"][\"duplication precision\"]],\n",
    "}\n",
    "\n",
    "fig, ax = plt.subplots()\n",
    "ax.set_title(\"NA12892 (SRR14724455_ecole)\")\n",
    "bar_plot(ax, data, total_width=.8, single_width=.9)\n",
    "plt.savefig(\"subsample_SRR14724455_ecole.pdf\")\n",
    "plt.show()"
   ]
  },
  {
   "cell_type": "code",
   "execution_count": 32,
   "metadata": {},
   "outputs": [
    {
     "data": {
      "image/png": "[encoded data removed]",
      "text/plain": [
       "<Figure size 432x288 with 1 Axes>"
      ]
     },
     "metadata": {
      "needs_background": "light"
     },
     "output_type": "display_data"
    }
   ],
   "source": [
    "# SRR14724456_ecole_ft:\n",
    "data = {\n",
    "    \"100%\": [SRR14724456_ecole_ft[\"complete\"][\"deletion recall\"], SRR14724456_ecole_ft[\"complete\"][\"duplication recall\"],SRR14724456_ecole_ft[\"complete\"][\"deletion precision\"], SRR14724456_ecole_ft[\"complete\"][\"duplication precision\"]],\n",
    "    \"80%\": [SRR14724456_ecole_ft[\"%80\"][\"deletion recall\"], SRR14724456_ecole_ft[\"%80\"][\"duplication recall\"],SRR14724456_ecole_ft[\"%80\"][\"deletion precision\"], SRR14724456_ecole_ft[\"%80\"][\"duplication precision\"]],\n",
    "    \"60%\": [SRR14724456_ecole_ft[\"%60\"][\"deletion recall\"], SRR14724456_ecole_ft[\"%60\"][\"duplication recall\"],SRR14724456_ecole_ft[\"%60\"][\"deletion precision\"], SRR14724456_ecole_ft[\"%60\"][\"duplication precision\"]],\n",
    "    \"40%\": [SRR14724456_ecole_ft[\"%40\"][\"deletion recall\"], SRR14724456_ecole_ft[\"%40\"][\"duplication recall\"],SRR14724456_ecole_ft[\"%40\"][\"deletion precision\"], SRR14724456_ecole_ft[\"%40\"][\"duplication precision\"]],\n",
    "}\n",
    "\n",
    "fig, ax = plt.subplots()\n",
    "ax.set_title(\"NA12891 (SRR14724456)\")\n",
    "bar_plot(ax, data, total_width=.8, single_width=.9)\n",
    "ax.set_ylim([0, 1])\n",
    "plt.savefig(\"subsample_SRR14724456_ecole_ft.pdf\")\n",
    "plt.show()"
   ]
  },
  {
   "cell_type": "code",
   "execution_count": 35,
   "metadata": {},
   "outputs": [
    {
     "data": {
      "image/png": "[encoded data removed]",
      "text/plain": [
       "<Figure size 432x288 with 1 Axes>"
      ]
     },
     "metadata": {
      "needs_background": "light"
     },
     "output_type": "display_data"
    }
   ],
   "source": [
    "# SRR14724455_ecole_ft:\n",
    "data = {\n",
    "    \"100%\": [SRR14724455_ecole_ft[\"complete\"][\"deletion recall\"], SRR14724455_ecole_ft[\"complete\"][\"duplication recall\"],SRR14724455_ecole_ft[\"complete\"][\"deletion precision\"], SRR14724455_ecole_ft[\"complete\"][\"duplication precision\"]],\n",
    "    \"80%\": [SRR14724455_ecole_ft[\"%80\"][\"deletion recall\"], SRR14724455_ecole_ft[\"%80\"][\"duplication recall\"],SRR14724455_ecole_ft[\"%80\"][\"deletion precision\"], SRR14724455_ecole_ft[\"%80\"][\"duplication precision\"]],\n",
    "    \"60%\": [SRR14724455_ecole_ft[\"%60\"][\"deletion recall\"], SRR14724455_ecole_ft[\"%60\"][\"duplication recall\"],SRR14724455_ecole_ft[\"%60\"][\"deletion precision\"], SRR14724455_ecole_ft[\"%60\"][\"duplication precision\"]],\n",
    "    \"40%\": [SRR14724455_ecole_ft[\"%40\"][\"deletion recall\"], SRR14724455_ecole_ft[\"%40\"][\"duplication recall\"],SRR14724455_ecole_ft[\"%40\"][\"deletion precision\"], SRR14724455_ecole_ft[\"%40\"][\"duplication precision\"]],\n",
    "}\n",
    "\n",
    "fig, ax = plt.subplots()\n",
    "ax.set_title(\"NA12892 (SRR14724455)\")\n",
    "ax.set_ylim([0, 1])\n",
    "bar_plot(ax, data, total_width=.8, single_width=.9)\n",
    "plt.savefig(\"subsample_SRR14724455_ecole_ft.pdf\")\n",
    "plt.show()"
   ]
  }
 ],
 "metadata": {
  "kernelspec": {
   "display_name": "base",
   "language": "python",
   "name": "python3"
  },
  "language_info": {
   "codemirror_mode": {
    "name": "ipython",
    "version": 3
   },
   "file_extension": ".py",
   "mimetype": "text/x-python",
   "name": "python",
   "nbconvert_exporter": "python",
   "pygments_lexer": "ipython3",
   "version": "3.8.8"
  },
  "orig_nbformat": 4
 },
 "nbformat": 4,
 "nbformat_minor": 2
}
