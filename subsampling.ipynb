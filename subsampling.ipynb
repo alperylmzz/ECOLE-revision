{
 "cells": [
  {
   "cell_type": "code",
   "execution_count": 15,
   "metadata": {},
   "outputs": [],
   "source": [
    "SRR14724456 = {}\n",
    "SRR14724455 = {}\n"
   ]
  },
  {
   "attachments": {},
   "cell_type": "markdown",
   "metadata": {},
   "source": [
    "## SRR14724456 (NA12891)"
   ]
  },
  {
   "attachments": {},
   "cell_type": "markdown",
   "metadata": {},
   "source": [
    "### Complete"
   ]
  },
  {
   "cell_type": "code",
   "execution_count": 16,
   "metadata": {},
   "outputs": [],
   "source": [
    "\n",
    "SRR14724456[\"complete\"] = {\n",
    "\"deletion recall\": 0.00835300526602506,\n",
    "\"duplication recall\": 0.005124450951683748,\n",
    "\"deletion precision\": 0.1318051575931232,\n",
    "\"duplication precision\":  0.0065420560747663555,\n",
    "}\n"
   ]
  },
  {
   "attachments": {},
   "cell_type": "markdown",
   "metadata": {},
   "source": [
    "deletion recall: 0.00835300526602506 \\\n",
    "duplication recall: 0.005124450951683748 \\\n",
    "deletion precision: 0.1318051575931232 \\\n",
    "duplication precision:  0.0065420560747663555 \\\n",
    "confusion matrix:  \\\n",
    " [[159038    840    549      0] \\\n",
    " [  1357      7      2      0] \\\n",
    " [ 10796    126     92      0] \\\n",
    " [ 21206     97     55      0]]"
   ]
  },
  {
   "attachments": {},
   "cell_type": "markdown",
   "metadata": {},
   "source": [
    "### %80 Subsampled "
   ]
  },
  {
   "cell_type": "code",
   "execution_count": 17,
   "metadata": {},
   "outputs": [],
   "source": [
    "SRR14724456[\"%80\"] ={\n",
    "\"deletion recall\": 0.016161249319048485 ,\n",
    "\"duplication recall\": 0.24231332357247437 ,\n",
    "\"deletion precision\": 0.024112706583581684 ,\n",
    "\"duplication precision\":  0.007728408321464428 ,\n",
    "}"
   ]
  },
  {
   "attachments": {},
   "cell_type": "markdown",
   "metadata": {},
   "source": [
    "deletion recall: 0.016161249319048485 \\\n",
    "duplication recall: 0.24231332357247437 \\\n",
    "deletion precision: 0.024112706583581684 \\\n",
    "duplication precision:  0.007728408321464428 \\\n",
    "confusion matrix: \\\n",
    "[[118228  36173   6026      0] \\\n",
    "[   983    331     52      0] \\\n",
    "[  6363   4473    178      0] \\\n",
    "[ 18380   1852   1126      0]] "
   ]
  },
  {
   "attachments": {},
   "cell_type": "markdown",
   "metadata": {},
   "source": [
    "### %60 Subsampled "
   ]
  },
  {
   "cell_type": "code",
   "execution_count": 18,
   "metadata": {},
   "outputs": [],
   "source": [
    "SRR14724456[\"%60\"] ={\n",
    "\"deletion recall\": 0.010259669511530779,\n",
    "\"duplication recall\": 0.005124450951683748,\n",
    "\"deletion precision\": 0.12811791383219956,\n",
    "\"duplication precision\":  0.005658852061438965\n",
    "}"
   ]
  },
  {
   "attachments": {},
   "cell_type": "markdown",
   "metadata": {},
   "source": [
    "deletion recall: 0.010259669511530779 \\\n",
    "duplication recall: 0.005124450951683748 \\\n",
    "deletion precision: 0.12811791383219956 \\\n",
    "duplication precision:  0.005658852061438965 \\\n",
    "confusion matrix:  \\\n",
    " [[158992    816    619      0] \\\n",
    " [  1357      7      2      0] \\\n",
    " [ 10759    142    113      0] \\\n",
    " [ 20938    272    148      0]] \\"
   ]
  },
  {
   "attachments": {},
   "cell_type": "markdown",
   "metadata": {},
   "source": [
    "### %40 Subsampled "
   ]
  },
  {
   "cell_type": "code",
   "execution_count": 19,
   "metadata": {},
   "outputs": [],
   "source": [
    "SRR14724456[\"%40\"] ={\n",
    "\"deletion recall\": 0.010622843653531869,\n",
    "\"duplication recall\": 0.005124450951683748,\n",
    "\"deletion precision\": 0.12594187298170076,\n",
    "\"duplication precision\":  0.005897219882055603\n",
    "}"
   ]
  },
  {
   "attachments": {},
   "cell_type": "markdown",
   "metadata": {},
   "source": [
    "deletion recall: 0.010622843653531869 \\\n",
    "duplication recall: 0.005124450951683748 \\\n",
    "deletion precision: 0.12594187298170076 \\\n",
    "duplication precision:  0.005897219882055603 \\\n",
    "confusion matrix:  \\\n",
    " [[158997    777    653      0] \\\n",
    " [  1357      7      2      0] \\\n",
    " [ 10756    141    117      0] \\\n",
    " [ 20939    262    157      0]] \\"
   ]
  },
  {
   "attachments": {},
   "cell_type": "markdown",
   "metadata": {},
   "source": [
    "## SRR14724455 (NA12892)"
   ]
  },
  {
   "attachments": {},
   "cell_type": "markdown",
   "metadata": {},
   "source": [
    "### Complete"
   ]
  },
  {
   "cell_type": "code",
   "execution_count": 20,
   "metadata": {},
   "outputs": [],
   "source": [
    "SRR14724455[\"complete\"]={\n",
    "\"deletion recall\": 0.012241419384829937,\n",
    "\"duplication recall\": 0.005718370264474625,\n",
    "\"deletion precision\": 0.1640706126687435,\n",
    "\"duplication precision\":  0.007575757575757576\n",
    "}"
   ]
  },
  {
   "attachments": {},
   "cell_type": "markdown",
   "metadata": {},
   "source": [
    "deletion recall: 0.012241419384829937 \\\n",
    "duplication recall: 0.005718370264474625 \\\n",
    "deletion precision: 0.1640706126687435 \\\n",
    "duplication precision:  0.007575757575757576 \\\n",
    "confusion matrix:  \\\n",
    " [[154303    902    745      0] \\\n",
    " [  1389      8      2      0] \\\n",
    " [ 12619    130    158      0] \\\n",
    " [ 23835     16     58      0]]"
   ]
  },
  {
   "attachments": {},
   "cell_type": "markdown",
   "metadata": {},
   "source": [
    "### %80 Subsampled "
   ]
  },
  {
   "cell_type": "code",
   "execution_count": 21,
   "metadata": {},
   "outputs": [],
   "source": [
    "SRR14724455[\"%80\"]={\n",
    "\"deletion recall\": 0.012241419384829937,\n",
    "\"duplication recall\": 0.005718370264474625,\n",
    "\"deletion precision\": 0.14933837429111532,\n",
    "\"duplication precision\":  0.006309148264984227\n",
    "}"
   ]
  },
  {
   "attachments": {},
   "cell_type": "markdown",
   "metadata": {},
   "source": [
    "deletion recall: 0.012241419384829937 \\\n",
    "duplication recall: 0.005718370264474625 \\\n",
    "deletion precision: 0.14933837429111532 \\\n",
    "duplication precision:  0.006309148264984227 \\\n",
    "confusion matrix:  \\\n",
    " [[154319    885    746      0] \\\n",
    " [  1389      8      2      0] \\\n",
    " [ 12623    126    158      0] \\\n",
    " [ 23508    249    152      0]]"
   ]
  },
  {
   "attachments": {},
   "cell_type": "markdown",
   "metadata": {},
   "source": [
    "### %60 Subsampled "
   ]
  },
  {
   "cell_type": "code",
   "execution_count": 22,
   "metadata": {},
   "outputs": [],
   "source": [
    "SRR14724455[\"%60\"]={\n",
    "\"deletion recall\": 0.012783760749980631,\n",
    "\"duplication recall\": 0.005718370264474625,\n",
    "\"deletion precision\": 0.15434985968194576,\n",
    "\"duplication precision\":  0.006530612244897959 \n",
    "}"
   ]
  },
  {
   "attachments": {},
   "cell_type": "markdown",
   "metadata": {},
   "source": [
    "deletion recall: 0.012783760749980631 \\\n",
    "duplication recall: 0.005718370264474625 \\\n",
    "deletion precision: 0.15434985968194576 \\\n",
    "duplication precision:  0.006530612244897959 \\\n",
    "confusion matrix:  \\\n",
    " [[154340    863    747      0] \\\n",
    " [  1389      8      2      0] \\\n",
    " [ 12629    113    165      0] \\\n",
    " [ 23513    241    155      0]]"
   ]
  },
  {
   "attachments": {},
   "cell_type": "markdown",
   "metadata": {},
   "source": [
    "### %40 Subsampled "
   ]
  },
  {
   "cell_type": "code",
   "execution_count": 23,
   "metadata": {},
   "outputs": [],
   "source": [
    "SRR14724455[\"%40\"]={\n",
    "\"deletion recall\": 0.012861238087859302,\n",
    "\"duplication recall\": 0.005003573981415297,\n",
    "\"deletion precision\": 0.15187557182067704,\n",
    "\"duplication precision\":  0.005902192242833052\n",
    "}"
   ]
  },
  {
   "attachments": {},
   "cell_type": "markdown",
   "metadata": {},
   "source": [
    "deletion recall: 0.012861238087859302 \\\n",
    "duplication recall: 0.005003573981415297 \\\n",
    "deletion precision: 0.15187557182067704 \\\n",
    "duplication precision:  0.005902192242833052 \\\n",
    "confusion matrix:  \\\n",
    " [[154347    835    768      0] \\\n",
    " [  1390      7      2      0] \\\n",
    " [ 12631    110    166      0] \\\n",
    " [ 23518    234    157      0]]"
   ]
  },
  {
   "attachments": {},
   "cell_type": "markdown",
   "metadata": {},
   "source": [
    "## Analysis"
   ]
  },
  {
   "cell_type": "code",
   "execution_count": 24,
   "metadata": {},
   "outputs": [],
   "source": [
    "from matplotlib import pyplot as plt\n",
    "\n",
    "\n",
    "def bar_plot(ax, data, colors=None, total_width=0.8, single_width=1, legend=True):\n",
    "    \"\"\"Draws a bar plot with multiple bars per data point.\n",
    "\n",
    "    Parameters\n",
    "    ----------\n",
    "    ax : matplotlib.pyplot.axis\n",
    "        The axis we want to draw our plot on.\n",
    "\n",
    "    data: dictionary\n",
    "        A dictionary containing the data we want to plot. Keys are the names of the\n",
    "        data, the items is a list of the values.\n",
    "\n",
    "        Example:\n",
    "        data = {\n",
    "            \"x\":[1,2,3],\n",
    "            \"y\":[1,2,3],\n",
    "            \"z\":[1,2,3],\n",
    "        }\n",
    "\n",
    "    colors : array-like, optional\n",
    "        A list of colors which are used for the bars. If None, the colors\n",
    "        will be the standard matplotlib color cyle. (default: None)\n",
    "\n",
    "    total_width : float, optional, default: 0.8\n",
    "        The width of a bar group. 0.8 means that 80% of the x-axis is covered\n",
    "        by bars and 20% will be spaces between the bars.\n",
    "\n",
    "    single_width: float, optional, default: 1\n",
    "        The relative width of a single bar within a group. 1 means the bars\n",
    "        will touch eachother within a group, values less than 1 will make\n",
    "        these bars thinner.\n",
    "\n",
    "    legend: bool, optional, default: True\n",
    "        If this is set to true, a legend will be added to the axis.\n",
    "    \"\"\"\n",
    "\n",
    "    # Check if colors where provided, otherwhise use the default color cycle\n",
    "    if colors is None:\n",
    "        colors = plt.rcParams['axes.prop_cycle'].by_key()['color']\n",
    "\n",
    "    # Number of bars per group\n",
    "    n_bars = len(data)\n",
    "\n",
    "    # The width of a single bar\n",
    "    bar_width = total_width / n_bars\n",
    "\n",
    "    # List containing handles for the drawn bars, used for the legend\n",
    "    bars = []\n",
    "\n",
    "    # Iterate over all data\n",
    "    for i, (name, values) in enumerate(data.items()):\n",
    "        # The offset in x direction of that bar\n",
    "        x_offset = (i - n_bars / 2) * bar_width + bar_width / 2\n",
    "\n",
    "        # Draw a bar for every value of that type\n",
    "        for x, y in enumerate(values):\n",
    "            bar = ax.bar(x + x_offset, y, width=bar_width * single_width, color=colors[i % len(colors)])\n",
    "\n",
    "        # Add a handle to the last drawn bar, which we'll need for the legend\n",
    "        bars.append(bar[0])\n",
    "\n",
    "    # Draw legend if we need\n",
    "    if legend:\n",
    "        ax.legend(bars, data.keys())\n",
    "    plt.xticks(range(4), [\"Deletion \\n Recall\", \"Duplication \\n Recall\", \"Deletion \\n Precision\", \"Duplication \\n Precision\"])"
   ]
  },
  {
   "cell_type": "code",
   "execution_count": 26,
   "metadata": {},
   "outputs": [
    {
     "data": {
      "image/png": "[encoded data removed]",
      "text/plain": [
       "<Figure size 432x288 with 1 Axes>"
      ]
     },
     "metadata": {
      "needs_background": "light"
     },
     "output_type": "display_data"
    }
   ],
   "source": [
    "# SRR14724456:\n",
    "data = {\n",
    "    \"100%\": [SRR14724456[\"complete\"][\"deletion recall\"], SRR14724456[\"complete\"][\"duplication recall\"],SRR14724456[\"complete\"][\"deletion precision\"], SRR14724456[\"complete\"][\"duplication precision\"]],\n",
    "    \"80%\": [SRR14724456[\"%80\"][\"deletion recall\"], SRR14724456[\"%80\"][\"duplication recall\"],SRR14724456[\"%80\"][\"deletion precision\"], SRR14724456[\"%80\"][\"duplication precision\"]],\n",
    "    \"60%\": [SRR14724456[\"%60\"][\"deletion recall\"], SRR14724456[\"%60\"][\"duplication recall\"],SRR14724456[\"%60\"][\"deletion precision\"], SRR14724456[\"%60\"][\"duplication precision\"]],\n",
    "    \"40%\": [SRR14724456[\"%40\"][\"deletion recall\"], SRR14724456[\"%40\"][\"duplication recall\"],SRR14724456[\"%40\"][\"deletion precision\"], SRR14724456[\"%40\"][\"duplication precision\"]],\n",
    "}\n",
    "\n",
    "fig, ax = plt.subplots()\n",
    "ax.set_title(\"NA12891 (SRR14724456)\")\n",
    "bar_plot(ax, data, total_width=.8, single_width=.9)\n",
    "plt.savefig(\"subsample_SRR14724456.pdf\")\n",
    "plt.show()"
   ]
  },
  {
   "cell_type": "code",
   "execution_count": 27,
   "metadata": {},
   "outputs": [
    {
     "data": {
      "image/png": "[encoded data removed]",
      "text/plain": [
       "<Figure size 432x288 with 1 Axes>"
      ]
     },
     "metadata": {
      "needs_background": "light"
     },
     "output_type": "display_data"
    }
   ],
   "source": [
    "# SRR14724455:\n",
    "data = {\n",
    "    \"100%\": [SRR14724455[\"complete\"][\"deletion recall\"], SRR14724455[\"complete\"][\"duplication recall\"],SRR14724455[\"complete\"][\"deletion precision\"], SRR14724455[\"complete\"][\"duplication precision\"]],\n",
    "    \"80%\": [SRR14724455[\"%80\"][\"deletion recall\"], SRR14724455[\"%80\"][\"duplication recall\"],SRR14724455[\"%80\"][\"deletion precision\"], SRR14724455[\"%80\"][\"duplication precision\"]],\n",
    "    \"60%\": [SRR14724455[\"%60\"][\"deletion recall\"], SRR14724455[\"%60\"][\"duplication recall\"],SRR14724455[\"%60\"][\"deletion precision\"], SRR14724455[\"%60\"][\"duplication precision\"]],\n",
    "    \"40%\": [SRR14724455[\"%40\"][\"deletion recall\"], SRR14724455[\"%40\"][\"duplication recall\"],SRR14724455[\"%40\"][\"deletion precision\"], SRR14724455[\"%40\"][\"duplication precision\"]],\n",
    "}\n",
    "\n",
    "fig, ax = plt.subplots()\n",
    "ax.set_title(\"NA12892 (SRR14724455)\")\n",
    "bar_plot(ax, data, total_width=.8, single_width=.9)\n",
    "plt.savefig(\"subsample_SRR14724455.pdf\")\n",
    "plt.show()"
   ]
  }
 ],
 "metadata": {
  "kernelspec": {
   "display_name": "base",
   "language": "python",
   "name": "python3"
  },
  "language_info": {
   "codemirror_mode": {
    "name": "ipython",
    "version": 3
   },
   "file_extension": ".py",
   "mimetype": "text/x-python",
   "name": "python",
   "nbconvert_exporter": "python",
   "pygments_lexer": "ipython3",
   "version": "3.8.8"
  },
  "orig_nbformat": 4
 },
 "nbformat": 4,
 "nbformat_minor": 2
}
