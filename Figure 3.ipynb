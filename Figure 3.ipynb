{
 "cells": [
  {
   "attachments": {},
   "cell_type": "markdown",
   "metadata": {},
   "source": [
    "# Figure 3"
   ]
  },
  {
   "cell_type": "code",
   "execution_count": 2,
   "metadata": {},
   "outputs": [],
   "source": [
    "import numpy as np\n",
    "import os\n",
    "import matplotlib.pyplot as plt\n",
    "import seaborn as sns\n",
    "import pandas as pd\n",
    "sns.set(style=\"whitegrid\")"
   ]
  },
  {
   "attachments": {},
   "cell_type": "markdown",
   "metadata": {},
   "source": [
    "## Beautifying Figure 3"
   ]
  },
  {
   "cell_type": "code",
   "execution_count": 3,
   "metadata": {},
   "outputs": [],
   "source": [
    "confusion_matrix={\n",
    "\t\"XHMM\":\n",
    "\t\t[[746801, 2556, 14310],\n",
    "\t\t[7149, 56, 67],\n",
    "\t\t[1894, 12, 119]]\n",
    "\t\t,\n",
    "\t\"DECoNT_XHMM\":\n",
    "\t\t[[749417, 2567, 14342],\n",
    "\t\t[4877, 51, 70],\n",
    "\t\t[1550, 6, 84]]\n",
    "\t\t,\n",
    "\t\"CONIFER\":\n",
    "\t\t[[188992, 609, 3590],\n",
    "\t\t[0, 50, 0],\n",
    "\t\t[0, 0, 0]]\n",
    "\t\t,\n",
    "\t\"DECoNT_CONIFER\":\n",
    "\t\t[[188992, 619, 3590],\n",
    "\t\t[0, 40, 0],\n",
    "\t\t[0, 0, 0]]\n",
    "\t\t,\n",
    "\t\"CODEX2\":\n",
    "\t\t[[481333, 1704, 8882],\n",
    "\t\t[130138, 362, 2161],\n",
    "\t\t[144373, 558, 3453]]\n",
    "\t\t,\n",
    "\t\"DECoNT_CODEX2\":\n",
    "\t\t[[655677, 2266, 12338],\n",
    "\t\t[54791, 228, 1146],\n",
    "\t\t[45376, 130, 1012]]\n",
    "\t\t,\n",
    "\t\"ECOLE\":\n",
    "\t\t[[748390, 2224, 13165],\n",
    "\t\t[4197, 359, 604],\n",
    "\t\t[3257, 41, 727]]\n",
    "\t\t,\n",
    "\t\"ECOLE_EXPERT\":\n",
    "\t\t[[ 751069, 1136, 7931],\n",
    "\t\t[ 254, 1435, 129],\n",
    "\t\t[ 4521, 53, 6436]]\n",
    "}"
   ]
  },
  {
   "cell_type": "code",
   "execution_count": 15,
   "metadata": {},
   "outputs": [],
   "source": [
    "def calc(confusion_matrix):\n",
    "    # precision, recall, f1, specificity, negative predictive value for deletion\n",
    "    try:\n",
    "        precision_del = confusion_matrix[2][2] / (confusion_matrix[2][2] + confusion_matrix[2][1] + confusion_matrix[2][0])\n",
    "    except ZeroDivisionError:\n",
    "        precision_del = 0.0\n",
    "    try:\n",
    "        recall_del = confusion_matrix[2][2] / (confusion_matrix[2][2] + confusion_matrix[1][2] + confusion_matrix[0][2])\n",
    "    except ZeroDivisionError:\n",
    "        recall_del = 0.0\n",
    "    try:\n",
    "        f1_del = 2 * precision_del * recall_del / (precision_del + recall_del)\n",
    "    except ZeroDivisionError:\n",
    "        f1_del = 0.0\n",
    "    specificity_del = (confusion_matrix[0][0] + confusion_matrix[0][1] + confusion_matrix[1][0] + confusion_matrix[1][\n",
    "        1]) / (confusion_matrix[0][0] + confusion_matrix[0][1] + confusion_matrix[1][0] + confusion_matrix[1][1] +\n",
    "               confusion_matrix[2][0] + confusion_matrix[2][1])\n",
    "    npv_del = (confusion_matrix[0][0] + confusion_matrix[0][1] + confusion_matrix[1][0] + confusion_matrix[1][1]) / (\n",
    "            confusion_matrix[0][0] + confusion_matrix[0][1] + confusion_matrix[0][2] + confusion_matrix[1][0] +\n",
    "            confusion_matrix[1][1] + confusion_matrix[1][2])\n",
    "    print(\"precision, recall, f1, specificity, negative predictive value for deletion\")\n",
    "    print(f\"{precision_del:.3}, {recall_del:.3}, {f1_del:.3}, {specificity_del:.3}, {npv_del:.3}\")\n",
    "    # precision, recall, f1, specificity, negative predictive value for duplication\n",
    "    precision_dup = confusion_matrix[1][1] / (confusion_matrix[1][1] + confusion_matrix[1][0] + confusion_matrix[1][2])\n",
    "    recall_dup = confusion_matrix[1][1] / (confusion_matrix[1][1] + confusion_matrix[0][1] + confusion_matrix[2][1])\n",
    "    f1_dup = 2 * precision_dup * recall_dup / (precision_dup + recall_dup)\n",
    "    specificity_dup = (confusion_matrix[0][0] + confusion_matrix[0][2] + confusion_matrix[2][0] + confusion_matrix[2][\n",
    "        2]) / \\\n",
    "                      (confusion_matrix[0][0] + confusion_matrix[0][2] + confusion_matrix[1][0] + confusion_matrix[1][2]\n",
    "                       + confusion_matrix[2][0] + confusion_matrix[2][2])\n",
    "    npv_dup = (confusion_matrix[0][0] + confusion_matrix[0][2] + confusion_matrix[2][0] + confusion_matrix[2][2]) / (\n",
    "            confusion_matrix[0][0] + confusion_matrix[0][1] + confusion_matrix[0][2] + confusion_matrix[2][0] +\n",
    "            confusion_matrix[2][1] + confusion_matrix[2][2])\n",
    "    print(\"precision, recall, f1, specificity, negative predictive value for duplication\")\n",
    "    print(f\"{precision_dup:.3}, {recall_dup:.3}, {f1_dup:.3}, {specificity_dup:.3}, {npv_dup:.3}\")\n",
    "\n",
    "    # macro average of precision, recall, f1, specificity, negative predictive value\n",
    "    print(\"macro average of precision, recall, f1, specificity, negative predictive value\")\n",
    "    print(\n",
    "        f\"{(precision_del + precision_dup) / 2:.3}, {(recall_del + recall_dup) / 2:.3}, {(f1_del + f1_dup) / 2:.3}, {(specificity_del + specificity_dup) / 2:.3}, {(npv_del + npv_dup) / 2:.3}\")"
   ]
  },
  {
   "cell_type": "code",
   "execution_count": 6,
   "metadata": {},
   "outputs": [],
   "source": [
    "def del_npv(method):\n",
    "    FN = (confusion_matrix[method][0][2]+confusion_matrix[method][1][2])\n",
    "    TN = (confusion_matrix[method][0][0] + confusion_matrix[method][0][1]) + (confusion_matrix[method][1][0] + confusion_matrix[method][1][1])\n",
    "    return round((TN/(TN+FN)),3)\n",
    "\n",
    "def dup_npv(method):\n",
    "    FN = (confusion_matrix[method][0][1]+confusion_matrix[method][2][1])\n",
    "    TN = (confusion_matrix[method][0][0] + confusion_matrix[method][0][2]) + (confusion_matrix[method][2][0] + confusion_matrix[method][2][2])\n",
    "    return round((TN/(TN+FN)),3)\n",
    "\n",
    "def overall_npv(method):\n",
    "    return round(((del_npv(method)+dup_npv(method))/2),3)"
   ]
  },
  {
   "cell_type": "code",
   "execution_count": 8,
   "metadata": {},
   "outputs": [],
   "source": [
    "XHMM =  [0.059, 0.008, 0.034, 0.008, 0.021, 0.015, 0.014, 0.012, 0.021]\n",
    "CONIFER = [0.000, 1.000, 0.500, 0.000, 0.076, 0.038, 0.000, 0.141, 0.071]\n",
    "CODEX2 = [0.023, 0.003, 0.013, 0.238, 0.138, 0.188, 0.042, 0.006, 0.024]\n",
    "DECoNT_XHMM = [0.051, 0.010, 0.031, 0.006, 0.019, 0.013, 0.011, 0.013, 0.018]\n",
    "DECoNT_CONIFER = [0.000, 1.000, 0.500, 0.000, 0.061, 0.031, 0.000, 0.115, 0.058]\n",
    "DECoNT_CODEX2 = [0.022, 0.004, 0.013, 0.070, 0.087, 0.079, 0.033, 0.008, 0.022]\n",
    "ECOLE = [0.181, 0.070, 0.126, 0.050, 0.137, 0.094, 0.078, 0.093, 0.108]\n",
    "ECOLE_EXPERT = [0.584, 0.789, 0.687, 0.444, 0.547, 0.496, 0.504, 0.646, 0.576]\n",
    "\n",
    "performance = {\"XHMM\":[XHMM,\"gold\"],\"CONIFER\":[CONIFER,\"springgreen\"],\"CODEX2\":[CODEX2,\"blue\"],\"ECOLE\":[ECOLE,\"red\"],\"ECOLE_EXPERT\":[ECOLE_EXPERT,\"maroon\"]}\n",
    "decont_performance = {\"DECoNT_XHMM\":[DECoNT_XHMM,\"gold\"],\"DECoNT_CONIFER\":[DECoNT_CONIFER,\"springgreen\"],\"DECoNT_CODEX2\":[DECoNT_CODEX2,\"blue\"],\"ECOLE\":[ECOLE,\"red\"],\"ECOLE_EXPERT\":[ECOLE_EXPERT,\"maroon\"]}\n"
   ]
  },
  {
   "cell_type": "code",
   "execution_count": 12,
   "metadata": {},
   "outputs": [
    {
     "data": {
      "text/plain": [
       "<matplotlib.legend.Legend at 0x18c6a006250>"
      ]
     },
     "execution_count": 12,
     "metadata": {},
     "output_type": "execute_result"
    },
    {
     "data": {
      "image/png": "[encoded data removed]",
      "text/plain": [
       "<Figure size 2520x1152 with 2 Axes>"
      ]
     },
     "metadata": {},
     "output_type": "display_data"
    }
   ],
   "source": [
    "performanceTypes = ['DEL Precision','DUP Precision','Overall Precision','DEL Recall','DUP Recall','Overall Recall','DEL F1 Score','DUP F1 Score','Overall F1 Score']\n",
    "\n",
    "\n",
    "\n",
    "ind = np.arange(len(performanceTypes))\n",
    "width=0.13 \n",
    "\n",
    "fig, (ax1, ax2) = plt.subplots(1,2, figsize=(35,16))\n",
    "ax1 = plt.subplot(1, 2, 1)\n",
    "for i,caller in enumerate(performance.keys()):\n",
    "    ax1.barh(ind-i*width, list(reversed(performance[caller][0])), width, align='center', alpha=0.8, label=caller, color=performance[caller][1]) #a horizontal bar chart (use .bar instead of .barh for vertical)\n",
    "ax1.set(yticks=ind + width/2, yticklabels=list(reversed(performanceTypes)), ylim=[2*width - 1, len(performanceTypes)-0.5], xlim=[0,1.15])\n",
    "ax1.tick_params(axis='both', which='major', labelsize=15)\n",
    "ax1.legend(loc=\"upper right\",fontsize=13)\n",
    "\n",
    "ax2 = plt.subplot(1, 2, 2, sharey=ax1)\n",
    "for i,caller in enumerate(decont_performance.keys()):\n",
    "    ax2.barh(ind-i*width, list(reversed(decont_performance[caller][0])), width, align='center', alpha=0.8, label=caller, color=decont_performance[caller][1]) #a horizontal bar chart (use .bar instead of .barh for vertical)\n",
    "ax2.set(yticks=ind + width/2, yticklabels=list(reversed(performanceTypes)), ylim=[2*width - 1, len(performanceTypes)-0.5 ], xlim=[0,1.15])\n",
    "ax2.tick_params(axis='both', which='major', labelsize=15)\n",
    "ax2.legend(loc=\"upper right\",fontsize=13)\n",
    "\n",
    "\n",
    "#plt.xlabel"
   ]
  },
  {
   "attachments": {},
   "cell_type": "markdown",
   "metadata": {},
   "source": [
    "## NPV Results"
   ]
  },
  {
   "cell_type": "code",
   "execution_count": 15,
   "metadata": {},
   "outputs": [
    {
     "name": "stdout",
     "output_type": "stream",
     "text": [
      "                DEL NPV  DUP NPV   Overall NPV\n",
      "XHMM              0.981     0.997        0.989\n",
      "DECoNT_XHMM       0.981     0.997        0.989\n",
      "CONIFER           0.981     0.997        0.989\n",
      "DECoNT_CONIFER    0.981     0.997        0.989\n",
      "CODEX2            0.982     0.996        0.989\n",
      "DECoNT_CODEX2     0.981     0.997        0.989\n",
      "ECOLE             0.982     0.997        0.990\n",
      "ECOLE_EXPERT      0.989     0.998        0.994\n"
     ]
    }
   ],
   "source": [
    "tools = [  \"XHMM\", \"DECoNT_XHMM\", \"CONIFER\",\"DECoNT_CONIFER\", \"CODEX2\", \"DECoNT_CODEX2\", \"ECOLE\", \"ECOLE_EXPERT\"]\n",
    "DEL_NPV = []\n",
    "DUP_NPV = []\n",
    "Overall_NPV = []\n",
    "for tool in tools:\n",
    "    DEL_NPV.append(del_npv(tool))\n",
    "    DUP_NPV.append(dup_npv(tool))\n",
    "    Overall_NPV.append(overall_npv(tool))\n",
    "\n",
    "data = {\n",
    "  \"DEL NPV\": DEL_NPV,\n",
    "  \"DUP NPV \": DUP_NPV,\n",
    "  \"Overall NPV\": Overall_NPV\n",
    "}\n",
    "\n",
    "df = pd.DataFrame(data, index = tools)\n",
    "\n",
    "print(df) "
   ]
  },
  {
   "cell_type": "code",
   "execution_count": 16,
   "metadata": {},
   "outputs": [
    {
     "name": "stdout",
     "output_type": "stream",
     "text": [
      "XHMM\n",
      "---------------\n",
      "precision, recall, f1, specificity, negative predictive value for deletion\n",
      "0.0588, 0.00821, 0.0144, 0.997, 0.981\n",
      "precision, recall, f1, specificity, negative predictive value for duplication\n",
      "0.0077, 0.0213, 0.0113, 0.991, 0.997\n",
      "macro average of precision, recall, f1, specificity, negative predictive value\n",
      "0.0332, 0.0148, 0.0129, 0.994, 0.989\n",
      "---------------\n",
      "DECoNT_XHMM\n",
      "---------------\n",
      "precision, recall, f1, specificity, negative predictive value for deletion\n",
      "0.0512, 0.00579, 0.0104, 0.998, 0.981\n",
      "precision, recall, f1, specificity, negative predictive value for duplication\n",
      "0.0102, 0.0194, 0.0134, 0.994, 0.997\n",
      "macro average of precision, recall, f1, specificity, negative predictive value\n",
      "0.0307, 0.0126, 0.0119, 0.996, 0.989\n",
      "---------------\n",
      "CONIFER\n",
      "---------------\n",
      "precision, recall, f1, specificity, negative predictive value for deletion\n",
      "0.0, 0.0, 0.0, 1.0, 0.981\n",
      "precision, recall, f1, specificity, negative predictive value for duplication\n",
      "1.0, 0.0759, 0.141, 1.0, 0.997\n",
      "macro average of precision, recall, f1, specificity, negative predictive value\n",
      "0.5, 0.0379, 0.0705, 1.0, 0.989\n",
      "---------------\n",
      "DECoNT_CONIFER\n",
      "---------------\n",
      "precision, recall, f1, specificity, negative predictive value for deletion\n",
      "0.0, 0.0, 0.0, 1.0, 0.981\n",
      "precision, recall, f1, specificity, negative predictive value for duplication\n",
      "1.0, 0.0607, 0.114, 1.0, 0.997\n",
      "macro average of precision, recall, f1, specificity, negative predictive value\n",
      "0.5, 0.0303, 0.0572, 1.0, 0.989\n",
      "---------------\n",
      "CODEX2\n",
      "---------------\n",
      "precision, recall, f1, specificity, negative predictive value for deletion\n",
      "0.0233, 0.238, 0.0424, 0.809, 0.982\n",
      "precision, recall, f1, specificity, negative predictive value for duplication\n",
      "0.00273, 0.138, 0.00535, 0.828, 0.996\n",
      "macro average of precision, recall, f1, specificity, negative predictive value\n",
      "0.013, 0.188, 0.0239, 0.819, 0.989\n",
      "---------------\n",
      "DECoNT_CODEX2\n",
      "---------------\n",
      "precision, recall, f1, specificity, negative predictive value for deletion\n",
      "0.0218, 0.0698, 0.0332, 0.94, 0.981\n",
      "precision, recall, f1, specificity, negative predictive value for duplication\n",
      "0.00406, 0.0869, 0.00776, 0.927, 0.997\n",
      "macro average of precision, recall, f1, specificity, negative predictive value\n",
      "0.0129, 0.0784, 0.0205, 0.934, 0.989\n",
      "---------------\n",
      "ECOLE\n",
      "---------------\n",
      "precision, recall, f1, specificity, negative predictive value for deletion\n",
      "0.181, 0.0502, 0.0785, 0.996, 0.982\n",
      "precision, recall, f1, specificity, negative predictive value for duplication\n",
      "0.0696, 0.137, 0.0922, 0.994, 0.997\n",
      "macro average of precision, recall, f1, specificity, negative predictive value\n",
      "0.125, 0.0935, 0.0854, 0.995, 0.99\n",
      "---------------\n",
      "ECOLE_EXPERT\n",
      "---------------\n",
      "precision, recall, f1, specificity, negative predictive value for deletion\n",
      "0.585, 0.444, 0.505, 0.994, 0.989\n",
      "precision, recall, f1, specificity, negative predictive value for duplication\n",
      "0.789, 0.547, 0.646, 1.0, 0.998\n",
      "macro average of precision, recall, f1, specificity, negative predictive value\n",
      "0.687, 0.495, 0.575, 0.997, 0.994\n",
      "---------------\n"
     ]
    }
   ],
   "source": [
    "print(\"XHMM\")\n",
    "print(\"---------------\")\n",
    "calc(confusion_matrix[\"XHMM\"])\n",
    "print(\"---------------\")\n",
    "print(\"DECoNT_XHMM\")\n",
    "print(\"---------------\")\n",
    "calc(confusion_matrix[\"DECoNT_XHMM\"])\n",
    "print(\"---------------\")\n",
    "print(\"CONIFER\")\n",
    "print(\"---------------\")\n",
    "calc(confusion_matrix[\"CONIFER\"])\n",
    "print(\"---------------\")\n",
    "print(\"DECoNT_CONIFER\")\n",
    "print(\"---------------\")\n",
    "calc(confusion_matrix[\"DECoNT_CONIFER\"])\n",
    "print(\"---------------\")\n",
    "print(\"CODEX2\")\n",
    "print(\"---------------\")\n",
    "calc(confusion_matrix[\"CODEX2\"])\n",
    "print(\"---------------\")\n",
    "print(\"DECoNT_CODEX2\")\n",
    "print(\"---------------\")\n",
    "calc(confusion_matrix[\"DECoNT_CODEX2\"])\n",
    "print(\"---------------\")\n",
    "print(\"ECOLE\")\n",
    "print(\"---------------\")\n",
    "calc(confusion_matrix[\"ECOLE\"])\n",
    "print(\"---------------\")\n",
    "print(\"ECOLE_EXPERT\")\n",
    "print(\"---------------\")\n",
    "calc(confusion_matrix[\"ECOLE_EXPERT\"])\n",
    "print(\"---------------\")"
   ]
  },
  {
   "attachments": {},
   "cell_type": "markdown",
   "metadata": {},
   "source": [
    "## CNV Distributions"
   ]
  },
  {
   "cell_type": "code",
   "execution_count": 2,
   "metadata": {},
   "outputs": [],
   "source": [
    "cur_dirname = os.getcwd()\n",
    "test1 = np.load(cur_dirname+'/Chaisson_et_al_test_data/HG00513_labeled_data.npy',allow_pickle=True)\n",
    "test2 = np.load(cur_dirname+'/Chaisson_et_al_test_data/HG00732_labeled_data.npy',allow_pickle=True)\n",
    "test3 = np.load(cur_dirname+'/Chaisson_et_al_test_data/HG00733_labeled_data.npy',allow_pickle=True)\n",
    "test4 = np.load(cur_dirname+'/Chaisson_et_al_test_data/NA19240_labeled_data.npy',allow_pickle=True)\n",
    "HG00513_labeled_data = test1[:,5]\n",
    "HG00732_labeled_data = test2[:,5]\n",
    "HG00733_labeled_data = test3[:,5]\n",
    "NA19240_labeled_data = test4[:,5]"
   ]
  },
  {
   "cell_type": "code",
   "execution_count": 3,
   "metadata": {},
   "outputs": [],
   "source": [
    "cur_dirname = os.getcwd()\n",
    "test1 = np.load(cur_dirname+'/Chaisson_et_al_test_data/HG00513_labeled_data.npy',allow_pickle=True)\n",
    "test2 = np.load(cur_dirname+'/Chaisson_et_al_test_data/HG00732_labeled_data.npy',allow_pickle=True)\n",
    "test3 = np.load(cur_dirname+'/Chaisson_et_al_test_data/HG00733_labeled_data.npy',allow_pickle=True)\n",
    "test4 = np.load(cur_dirname+'/Chaisson_et_al_test_data/NA19240_labeled_data.npy',allow_pickle=True)\n",
    "HG00513_labeled_data = test1[:,5]\n",
    "HG00732_labeled_data = test2[:,5]\n",
    "HG00733_labeled_data = test3[:,5]\n",
    "NA19240_labeled_data = test4[:,5]\n",
    "\n",
    "cur_dirname = os.getcwd()\n",
    "test1 = np.load(cur_dirname+'/ECOLE_4_training_data/HG02153_labeled_data.npy',allow_pickle=True)\n",
    "test2 = np.load(cur_dirname+'/ECOLE_4_training_data/HG02232_labeled_data.npy',allow_pickle=True)\n",
    "test3 = np.load(cur_dirname+'/ECOLE_4_training_data/HG02291_labeled_data.npy',allow_pickle=True)\n",
    "test4 = np.load(cur_dirname+'/ECOLE_4_training_data/HG02330_labeled_data.npy',allow_pickle=True)\n",
    "HG02153_labeled_data = test1[:,5]\n",
    "HG02232_labeled_data = test2[:,5]\n",
    "HG02291_labeled_data = test3[:,5]\n",
    "HG02330_labeled_data = test4[:,5]\n"
   ]
  },
  {
   "cell_type": "code",
   "execution_count": 4,
   "metadata": {},
   "outputs": [
    {
     "data": {
      "image/png": "[encoded data removed]",
      "text/plain": [
       "<Figure size 576x360 with 4 Axes>"
      ]
     },
     "metadata": {
      "needs_background": "light"
     },
     "output_type": "display_data"
    }
   ],
   "source": [
    "HG00513_cnv = {\"DEL\": np.sum(HG00513_labeled_data==\"<DEL>\"),\"DUP\": np.sum(HG00513_labeled_data==\"<DUP>\")}\n",
    "HG00732_cnv = {\"DEL\": np.sum(HG00732_labeled_data==\"<DEL>\"),\"DUP\": np.sum(HG00732_labeled_data==\"<DUP>\")}\n",
    "HG00733_cnv = {\"DEL\": np.sum(HG00733_labeled_data==\"<DEL>\"),\"DUP\": np.sum(HG00733_labeled_data==\"<DUP>\")}\n",
    "NA19240_cnv = {\"DEL\": np.sum(NA19240_labeled_data==\"<DEL>\"),\"DUP\": np.sum(NA19240_labeled_data==\"<DUP>\")}\n",
    "  \n",
    "fig, ax = plt.subplots(2,2, figsize=(8,5))\n",
    " \n",
    "# creating the bar plot\n",
    "ax[0,0].bar(HG00513_cnv.keys(), HG00513_cnv.values(),width = 0.4)\n",
    "ax[0,0].set_title(\"HG00513\")\n",
    "ax[0,0].set_ylim((0,3800))\n",
    "ax[0,1].bar(HG00732_cnv.keys(), HG00732_cnv.values(),width = 0.4)\n",
    "ax[0,1].set_title(\"HG00732\")\n",
    "ax[0,1].set_ylim((0,3800))\n",
    "ax[1,0].bar(HG00733_cnv.keys(), HG00733_cnv.values(),width = 0.4)\n",
    "ax[1,0].set_title(\"HG00733\")\n",
    "ax[1,0].set_ylim((0,3800))\n",
    "ax[1,1].bar(NA19240_cnv.keys(), NA19240_cnv.values(),width = 0.4)\n",
    "ax[1,1].set_title(\"NA19240\")\n",
    "ax[1,1].set_ylim((0,3800))\n",
    "fig.tight_layout()\n",
    "plt.show()"
   ]
  },
  {
   "cell_type": "code",
   "execution_count": 5,
   "metadata": {},
   "outputs": [
    {
     "data": {
      "image/png": "[encoded data removed]",
      "text/plain": [
       "<Figure size 576x360 with 4 Axes>"
      ]
     },
     "metadata": {
      "needs_background": "light"
     },
     "output_type": "display_data"
    }
   ],
   "source": [
    "HG02153_cnv = {\"DEL\": np.sum(HG02153_labeled_data==\"<DEL>\"),\"DUP\": np.sum(HG02153_labeled_data==\"<DUP>\")}\n",
    "HG02232_cnv = {\"DEL\": np.sum(HG02232_labeled_data==\"<DEL>\"),\"DUP\": np.sum(HG02232_labeled_data==\"<DUP>\")}\n",
    "HG02291_cnv = {\"DEL\": np.sum(HG02291_labeled_data==\"<DEL>\"),\"DUP\": np.sum(HG02291_labeled_data==\"<DUP>\")}\n",
    "HG02330_cnv = {\"DEL\": np.sum(HG02330_labeled_data==\"<DEL>\"),\"DUP\": np.sum(HG02330_labeled_data==\"<DUP>\")}\n",
    "  \n",
    "fig, ax = plt.subplots(2,2, figsize=(8,5))\n",
    " \n",
    "# creating the bar plot\n",
    "ax[0,0].bar(HG02153_cnv.keys(), HG02153_cnv.values(),width = 0.4)\n",
    "ax[0,0].set_title(\"HG02153\")\n",
    "ax[0,0].set_ylim((0,3800))\n",
    "ax[0,1].bar(HG02232_cnv.keys(), HG02232_cnv.values(),width = 0.4)\n",
    "ax[0,1].set_title(\"HG02232\")\n",
    "ax[0,1].set_ylim((0,3800))\n",
    "ax[1,0].bar(HG02291_cnv.keys(), HG02291_cnv.values(),width = 0.4)\n",
    "ax[1,0].set_title(\"HG02291\")\n",
    "ax[1,0].set_ylim((0,3800))\n",
    "ax[1,1].bar(HG02330_cnv.keys(), HG02330_cnv.values(),width = 0.4)\n",
    "ax[1,1].set_title(\"HG02330\")\n",
    "ax[1,1].set_ylim((0,3800))\n",
    "fig.tight_layout()\n",
    "plt.show()"
   ]
  },
  {
   "attachments": {},
   "cell_type": "markdown",
   "metadata": {},
   "source": []
  }
 ],
 "metadata": {
  "kernelspec": {
   "display_name": "base",
   "language": "python",
   "name": "python3"
  },
  "language_info": {
   "codemirror_mode": {
    "name": "ipython",
    "version": 3
   },
   "file_extension": ".py",
   "mimetype": "text/x-python",
   "name": "python",
   "nbconvert_exporter": "python",
   "pygments_lexer": "ipython3",
   "version": "3.8.8"
  },
  "orig_nbformat": 4
 },
 "nbformat": 4,
 "nbformat_minor": 2
}
