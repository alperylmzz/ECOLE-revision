{
 "cells": [
  {
   "attachments": {},
   "cell_type": "markdown",
   "metadata": {},
   "source": [
    "TruthSet Match Position"
   ]
  },
  {
   "cell_type": "code",
   "execution_count": 196,
   "metadata": {},
   "outputs": [],
   "source": [
    "import numpy as np\n",
    "import pandas as pd\n",
    "import os\n",
    "from tqdm import tqdm \n",
    "from os import listdir\n",
    "import pdb\n",
    "from multiprocessing.pool import Pool"
   ]
  },
  {
   "cell_type": "code",
   "execution_count": 214,
   "metadata": {},
   "outputs": [],
   "source": [
    "#test_split = \"/mnt/berk/samples_new/\"\n",
    "target_list_path = \"~/Desktop/ECOLE/ECOLE-main/hglft_genome_64dc_dcbaa0.bed\"\n",
    "#cnvnator_wgs_calls_path = \"/mnt/furkan/CNVNATOR_WGS_DATA/\"\n",
    "sample_name=\"normal.10x_LR-shortDels.IL_N_1\"\n",
    "target_data = pd.read_csv(target_list_path, sep=\"\\t\", header=None).values"
   ]
  },
  {
   "cell_type": "code",
   "execution_count": 208,
   "metadata": {},
   "outputs": [],
   "source": [
    "wgs_ends_list = []\n",
    "wgs_start_list = []\n",
    "chr_list = []\n",
    "sv_label_list = []\n",
    "wgs_calls_data = pd.read_csv(sample_name+\".vcf\", sep=\"\\t\",comment='#',header=None).values\n",
    "wgs_ends_list_tmp = [x.split(\";\") for x in wgs_calls_data[:,7]]\n",
    "for ind,iterlist in enumerate(wgs_ends_list_tmp) :\n",
    "    start_loc = wgs_calls_data[ind][1]\n",
    "    chr = wgs_calls_data[ind][0]\n",
    "    for  i in  iterlist:\n",
    "        if(i[:4]==\"END=\"):\n",
    "            wgs_start_list.append(start_loc)\n",
    "            wgs_ends_list.append(int(i.split(\"=\")[1]))\n",
    "            chr_list.append(chr)\n",
    "            sv_label_list.append(wgs_calls_data[ind,7].split(\";\")[0].partition(\"=\")[2])\n",
    "wgs_start_list = np.asarray(wgs_start_list)\n",
    "wgs_ends_list = np.asarray(wgs_ends_list)\n",
    "chr_list = np.asarray(chr_list)\n",
    "sv_label_list = np.asarray(sv_label_list)\n",
    "\n",
    "\n"
   ]
  },
  {
   "cell_type": "code",
   "execution_count": 219,
   "metadata": {},
   "outputs": [],
   "source": [
    "#For normal.10x_LR-shortDels.IL_N_1\n",
    "wgs_ends_list = []\n",
    "wgs_start_list = []\n",
    "chr_list = []\n",
    "sv_label_list = []\n",
    "wgs_calls_data = pd.read_csv(sample_name+\".vcf\", sep=\"\\t\",comment='#',header=None).values\n",
    "wgs_ends_list_tmp = [x.split(\";\") for x in wgs_calls_data[:,7]]\n",
    "for ind,iterlist in enumerate(wgs_ends_list_tmp) :\n",
    "    start_loc = wgs_calls_data[ind][1]\n",
    "    chr = wgs_calls_data[ind][0]\n",
    "    for  i in  iterlist:\n",
    "        if(i[:4]==\"END=\"):\n",
    "            wgs_start_list.append(start_loc)\n",
    "            wgs_ends_list.append(int(i.split(\"=\")[1]))\n",
    "            chr_list.append(chr)\n",
    "            sv_label_list.append(wgs_calls_data[ind,4])\n",
    "wgs_start_list = np.asarray(wgs_start_list)\n",
    "wgs_ends_list = np.asarray(wgs_ends_list)\n",
    "chr_list = np.asarray(chr_list)\n",
    "sv_label_list = np.asarray(sv_label_list)\n"
   ]
  },
  {
   "cell_type": "code",
   "execution_count": 209,
   "metadata": {},
   "outputs": [
    {
     "name": "stderr",
     "output_type": "stream",
     "text": [
      "  4%|▍         | 8519/193241 [00:00<00:13, 13439.08it/s]\n"
     ]
    },
    {
     "ename": "IndexError",
     "evalue": "boolean index did not match indexed array along dimension 0; dimension is 4446 but corresponding boolean dimension is 4406",
     "output_type": "error",
     "traceback": [
      "\u001b[0;31m---------------------------------------------------------------------------\u001b[0m",
      "\u001b[0;31mIndexError\u001b[0m                                Traceback (most recent call last)",
      "Cell \u001b[0;32mIn[209], line 18\u001b[0m\n\u001b[1;32m     15\u001b[0m     groundtruthcall \u001b[39m=\u001b[39m \u001b[39m\"\u001b[39m\u001b[39m<NO-CALL>\u001b[39m\u001b[39m\"\u001b[39m\n\u001b[1;32m     16\u001b[0m \u001b[39melse\u001b[39;00m:\n\u001b[1;32m     17\u001b[0m     \u001b[39m#print('here wgs',wgs_calls_data[appropriate_inds_wgscalls,4])\u001b[39;00m\n\u001b[0;32m---> 18\u001b[0m     groundtruthcall \u001b[39m=\u001b[39m  wgs_calls_data[appropriate_inds_wgscalls,\u001b[39m4\u001b[39;49m][\u001b[39m0\u001b[39m]\n\u001b[1;32m     20\u001b[0m os\u001b[39m.\u001b[39mmakedirs(os\u001b[39m.\u001b[39mpath\u001b[39m.\u001b[39mdirname(\u001b[39m\"\u001b[39m\u001b[39m./Groundtruth_\u001b[39m\u001b[39m\"\u001b[39m \u001b[39m+\u001b[39m sample_name \u001b[39m+\u001b[39m \u001b[39m\"\u001b[39m\u001b[39m.csv\u001b[39m\u001b[39m\"\u001b[39m), exist_ok\u001b[39m=\u001b[39m\u001b[39mTrue\u001b[39;00m)\n\u001b[1;32m     22\u001b[0m f \u001b[39m=\u001b[39m \u001b[39mopen\u001b[39m(\u001b[39m\"\u001b[39m\u001b[39m./Groundtruth_\u001b[39m\u001b[39m\"\u001b[39m \u001b[39m+\u001b[39m sample_name \u001b[39m+\u001b[39m \u001b[39m\"\u001b[39m\u001b[39m.csv\u001b[39m\u001b[39m\"\u001b[39m, \u001b[39m\"\u001b[39m\u001b[39ma\u001b[39m\u001b[39m\"\u001b[39m)\n",
      "\u001b[0;31mIndexError\u001b[0m: boolean index did not match indexed array along dimension 0; dimension is 4446 but corresponding boolean dimension is 4406"
     ]
    }
   ],
   "source": [
    "#For Sniffeer\n",
    "for i in tqdm(range(target_data.shape[0])):\n",
    "#get the chracter, start and end indices in the target\n",
    "    target_chr = target_data[i,0]\n",
    "    target_st = int(target_data[i,1])\n",
    "    target_end = int(target_data[i,2])\n",
    "\n",
    "    appropriate_inds_wgscalls =   (wgs_start_list < target_st) * ( wgs_ends_list > target_end) * (target_chr == chr_list)\n",
    "\n",
    "\n",
    "\n",
    "    groundtruthcall = \"\"\n",
    "    if np.sum(appropriate_inds_wgscalls) == 0:\n",
    "        #no call\n",
    "        groundtruthcall = \"<NO-CALL>\"\n",
    "    else:\n",
    "        #print('here wgs',wgs_calls_data[appropriate_inds_wgscalls,4])\n",
    "        groundtruthcall =  wgs_calls_data[appropriate_inds_wgscalls,4][0]\n",
    "        \n",
    "    os.makedirs(os.path.dirname(\"./Groundtruth_\" + sample_name + \".csv\"), exist_ok=True)\n",
    "\n",
    "    f = open(\"./Groundtruth_\" + sample_name + \".csv\", \"a\")\n",
    "        \n",
    "        \n",
    "            \n",
    "    f.write(target_chr + \",\" +str(target_st) + \",\"+str(target_end) + \",\"+groundtruthcall+\"\\n\")"
   ]
  },
  {
   "cell_type": "code",
   "execution_count": 220,
   "metadata": {},
   "outputs": [
    {
     "name": "stderr",
     "output_type": "stream",
     "text": [
      "100%|██████████| 193241/193241 [00:14<00:00, 13088.53it/s]\n"
     ]
    }
   ],
   "source": [
    "#For normal.PB.pbsv.vcf.gz   \n",
    "for i in tqdm(range(target_data.shape[0])):\n",
    "#get the chracter, start and end indices in the target\n",
    "    target_chr = target_data[i,0]\n",
    "    target_st = int(target_data[i,1])\n",
    "    target_end = int(target_data[i,2])\n",
    "\n",
    "    appropriate_inds_wgscalls =   (wgs_start_list < target_st) * ( wgs_ends_list > target_end) * (target_chr == chr_list)\n",
    "\n",
    "\n",
    "\n",
    "    groundtruthcall = \"\"\n",
    "    if np.sum(appropriate_inds_wgscalls) == 0:\n",
    "        #no call\n",
    "        groundtruthcall = \"<NO-CALL>\"\n",
    "    else:\n",
    "        #print('here wgs',wgs_calls_data[appropriate_inds_wgscalls,4])\n",
    "        groundtruthcall =  \"<\"+sv_label_list[appropriate_inds_wgscalls][0]+\">\"\n",
    "        \n",
    "    os.makedirs(os.path.dirname(\"./Groundtruth_\" + sample_name + \".csv\"), exist_ok=True)\n",
    "\n",
    "    f = open(\"./Groundtruth_\" + sample_name + \".csv\", \"a\")\n",
    "        \n",
    "        \n",
    "            \n",
    "    f.write(target_chr + \",\" +str(target_st) + \",\"+str(target_end) + \",\"+groundtruthcall+\"\\n\")"
   ]
  },
  {
   "cell_type": "code",
   "execution_count": 222,
   "metadata": {},
   "outputs": [
    {
     "name": "stderr",
     "output_type": "stream",
     "text": [
      "100%|██████████| 193241/193241 [00:14<00:00, 13011.47it/s]\n"
     ]
    }
   ],
   "source": [
    "#For normal.10x_LR-shortDels.IL_N_1 \n",
    "for i in tqdm(range(target_data.shape[0])):\n",
    "#get the chracter, start and end indices in the target\n",
    "    target_chr = target_data[i,0]\n",
    "    target_st = int(target_data[i,1])\n",
    "    target_end = int(target_data[i,2])\n",
    "\n",
    "    appropriate_inds_wgscalls =   (wgs_start_list < target_st) * ( wgs_ends_list > target_end) * (target_chr == chr_list)\n",
    "\n",
    "\n",
    "\n",
    "    groundtruthcall = \"\"\n",
    "    if np.sum(appropriate_inds_wgscalls) == 0:\n",
    "        #no call\n",
    "        groundtruthcall = \"<NO-CALL>\"\n",
    "    else:\n",
    "        #print('here wgs',wgs_calls_data[appropriate_inds_wgscalls,4])\n",
    "        groundtruthcall =  sv_label_list[appropriate_inds_wgscalls][0]\n",
    "        \n",
    "    os.makedirs(os.path.dirname(\"./Groundtruth_\" + sample_name + \".csv\"), exist_ok=True)\n",
    "\n",
    "    f = open(\"./Groundtruth_\" + sample_name + \".csv\", \"a\")\n",
    "        \n",
    "        \n",
    "            \n",
    "    f.write(target_chr + \",\" +str(target_st) + \",\"+str(target_end) + \",\"+groundtruthcall+\"\\n\")"
   ]
  },
  {
   "cell_type": "code",
   "execution_count": 177,
   "metadata": {},
   "outputs": [
    {
     "data": {
      "text/plain": [
       "array([], dtype='<U3')"
      ]
     },
     "execution_count": 177,
     "metadata": {},
     "output_type": "execute_result"
    }
   ],
   "source": [
    "sv_label_list[appropriate_inds_wgscalls]"
   ]
  },
  {
   "cell_type": "code",
   "execution_count": 189,
   "metadata": {},
   "outputs": [
    {
     "data": {
      "text/plain": [
       "False"
      ]
     },
     "execution_count": 189,
     "metadata": {},
     "output_type": "execute_result"
    }
   ],
   "source": [
    "np.any(sv_label_list==\"DUP\")"
   ]
  },
  {
   "cell_type": "code",
   "execution_count": 234,
   "metadata": {},
   "outputs": [
    {
     "name": "stderr",
     "output_type": "stream",
     "text": [
      "/tmp/ipykernel_11377/2967436449.py:13: DtypeWarning: Columns (2,3) have mixed types. Specify dtype option on import or set low_memory=False.\n",
      "  ecole_calls_data = pd.read_csv(\"~/Desktop/ECOLE/Revision/Analysis/Task3/Normal_WES/ecole_calls_output/WES_IL_N_1_v3.csv\", sep=\"\\t\",header=None)\n"
     ]
    },
    {
     "name": "stdout",
     "output_type": "stream",
     "text": [
      "deletion recall: 0.4935064935064935\n",
      "duplication recall: nan\n",
      "deletion precision: 0.013080895008605853\n",
      "duplication precision:  0.0\n",
      "confusion matrix: \n",
      " [[190766    455   2867]\n",
      " [     0      0      0]\n",
      " [    39      0     38]]\n"
     ]
    },
    {
     "name": "stderr",
     "output_type": "stream",
     "text": [
      "/tmp/ipykernel_11377/2967436449.py:53: RuntimeWarning: invalid value encountered in scalar divide\n",
      "  duprecall_  = np.sum(duppreds_  * dupcalls) / np.sum(dupcalls)\n"
     ]
    }
   ],
   "source": [
    "import numpy as np\n",
    "from sklearn.metrics import confusion_matrix as cm\n",
    "import os\n",
    "from tqdm import tqdm\n",
    "import pandas as pd\n",
    "\n",
    "\n",
    "preds_ = np.array([])\n",
    "wgs_preds_ = np.array([])\n",
    "\n",
    "\n",
    "    \n",
    "ecole_calls_data = pd.read_csv(\"~/Desktop/ECOLE/Revision/Analysis/Task3/Normal_WES/ecole_calls_output/WES_IL_N_1_v3.csv\", sep=\"\\t\",header=None)\n",
    "wgs_calls_data = pd.read_csv(\"~/Desktop/ECOLE/Revision/Analysis/Task3/Normal_SNV_GroundTruth/Groundtruth_normal.PB.pbsv.csv\", sep=\",\",header=None)\n",
    "ecole_calls_data = ecole_calls_data[1:][[1,2,3,4]]\n",
    "ecole_calls_data = ecole_calls_data.T.reset_index(drop=True).T\n",
    "ecole_calls_data[1]=ecole_calls_data[1].astype(int)\n",
    "ecole_calls_data[2]=ecole_calls_data[2].astype(int)\n",
    "\n",
    "\n",
    "new_df = pd.merge(wgs_calls_data, ecole_calls_data,  how='left', left_on=[0,1,2], right_on = [0,1,2]).values\n",
    "\n",
    "wgs_preds_n = np.array(new_df[:,3]) \n",
    "wgs_preds_ = np.append(wgs_preds_,wgs_preds_n)\n",
    "preds_n= np.array(new_df[:,4]) \n",
    "preds_ = np.append(preds_,preds_n)\n",
    "        \n",
    "wgs_preds_[wgs_preds_ == \"<DEL>\"] = 2\n",
    "wgs_preds_[wgs_preds_ == \"<DUP>\"] = 1\n",
    "wgs_preds_[(wgs_preds_!=2) * (wgs_preds_!=1)] = 0\n",
    "wgs_preds_ = wgs_preds_.astype(int)\n",
    "\n",
    "\n",
    "delcalls = wgs_preds_ == 2\n",
    "dupcalls = wgs_preds_ == 1\n",
    "nocallcalls = wgs_preds_ == 0\n",
    "\n",
    "\n",
    "preds_[preds_ == \"DEL\"] = 2\n",
    "preds_[preds_ == \"DUP\"] = 1\n",
    "preds_[(preds_!=2) * (preds_!=1)] = 0\n",
    "preds_ = preds_.astype(int)\n",
    "\n",
    "preds_ = preds_.astype(int)\n",
    "\n",
    "delpreds_ = preds_ == 2\n",
    "duppreds_  = preds_ == 1\n",
    "nocallpreds_  = preds_ == 0\n",
    "\n",
    "\n",
    "\n",
    "delrecall_  = np.sum(delpreds_ * delcalls) / np.sum(delcalls)\n",
    "duprecall_  = np.sum(duppreds_  * dupcalls) / np.sum(dupcalls)\n",
    "print(\"deletion recall:\", delrecall_)\n",
    "print(\"duplication recall:\", duprecall_)\n",
    "\n",
    "delprec_  = np.sum(delpreds_  * delcalls) / np.sum(delpreds_ )\n",
    "dupprec_  = np.sum(duppreds_  * dupcalls) / np.sum(duppreds_ )\n",
    "print(\"deletion precision:\", delprec_)\n",
    "print(\"duplication precision: \",dupprec_ )\n",
    "\n",
    "print(\"confusion matrix: \\n\",cm(wgs_preds_, preds_))"
   ]
  },
  {
   "cell_type": "code",
   "execution_count": 204,
   "metadata": {},
   "outputs": [
    {
     "data": {
      "text/plain": [
       "2905"
      ]
     },
     "execution_count": 204,
     "metadata": {},
     "output_type": "execute_result"
    }
   ],
   "source": [
    "np.sum(delpreds_ )"
   ]
  }
 ],
 "metadata": {
  "kernelspec": {
   "display_name": "base",
   "language": "python",
   "name": "python3"
  },
  "language_info": {
   "codemirror_mode": {
    "name": "ipython",
    "version": 3
   },
   "file_extension": ".py",
   "mimetype": "text/x-python",
   "name": "python",
   "nbconvert_exporter": "python",
   "pygments_lexer": "ipython3",
   "version": "3.10.8"
  },
  "orig_nbformat": 4
 },
 "nbformat": 4,
 "nbformat_minor": 2
}
