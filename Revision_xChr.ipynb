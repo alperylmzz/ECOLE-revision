{
 "cells": [
  {
   "attachments": {},
   "cell_type": "markdown",
   "metadata": {},
   "source": [
    "X Chromosomes Performance Results"
   ]
  },
  {
   "cell_type": "code",
   "execution_count": 1,
   "metadata": {},
   "outputs": [],
   "source": [
    "import numpy as np\n",
    "import os\n",
    "from sklearn.metrics import confusion_matrix as cm\n",
    "from tqdm import tqdm\n",
    "import pandas as pd\n",
    "import matplotlib.pyplot as plt "
   ]
  },
  {
   "cell_type": "code",
   "execution_count": 2,
   "metadata": {},
   "outputs": [],
   "source": [
    "cur_dirname = os.getcwd()\n",
    "\n",
    "ecole_predictions_path = \"./ecole_predictions_1000genomes_test/\"\n",
    "\n",
    "test_set = os.listdir(ecole_predictions_path)\n",
    "samples = [sample.split(\".\")[0] for sample in test_set]\n",
    "\n",
    "sample_info = pd.read_csv('igsr_samples.tsv', sep='\\t')\n",
    "filter = sample_info[\"Sample name\"].isin(samples)\n",
    "sample_info = sample_info[filter]\n",
    "sampleSex = sample_info.set_index(\"Sample name\").to_dict()[\"Sex\"]\n"
   ]
  },
  {
   "cell_type": "code",
   "execution_count": 3,
   "metadata": {},
   "outputs": [
    {
     "name": "stdout",
     "output_type": "stream",
     "text": [
      "[75, 82]\n"
     ]
    },
    {
     "data": {
      "image/png": "[encoded data removed]",
      "text/plain": [
       "<Figure size 432x288 with 1 Axes>"
      ]
     },
     "metadata": {},
     "output_type": "display_data"
    }
   ],
   "source": [
    "labels = [\"Male\",\"Female\"]\n",
    "sizes = [sum(sample_info[\"Sex\"]==\"male\"),sum(sample_info[\"Sex\"]==\"female\")]\n",
    "print(sizes)\n",
    "\n",
    "fig, ax = plt.subplots()\n",
    "ax.pie(sizes, labels=labels, autopct='%1.1f%%',\n",
    "        shadow=True, startangle=90)\n",
    "plt.show()\n"
   ]
  },
  {
   "cell_type": "code",
   "execution_count": 4,
   "metadata": {},
   "outputs": [
    {
     "name": "stderr",
     "output_type": "stream",
     "text": [
      "100%|██████████| 157/157 [00:50<00:00,  3.14it/s]\n"
     ]
    }
   ],
   "source": [
    "preds_ = {\"female\" : np.array([]), \"male\" : np.array([])}\n",
    "wgs_preds_ = {\"female\" : np.array([]), \"male\" : np.array([])}\n",
    "\n",
    "for sample_name in tqdm(samples):\n",
    "    ecole_calls_data = pd.read_csv(ecole_predictions_path + sample_name + \".csv\", sep=\",\",header=None)\n",
    "    ecole_calls_data = ecole_calls_data[ecole_calls_data[0]==\"chrX\"]\n",
    "    wgs_calls_data = pd.read_csv(os.path.join(cur_dirname,f\"../../../Groundtruths_exon_matched/1000genomes_exon_matched_truths/Groundtruth_\") + sample_name + \".csv\", sep=\",\",header=None)\n",
    "    wgs_calls_data = wgs_calls_data[wgs_calls_data[0]==\"chrX\"]\n",
    "    new_df = pd.merge(wgs_calls_data, ecole_calls_data,  how='left', left_on=[0,1,2], right_on = [0,1,2]).values\n",
    "\n",
    "    gender = sampleSex[sample_name]\n",
    "    wgs_preds_n = np.array(new_df[:,3]) \n",
    "    wgs_preds_[gender] = np.append(wgs_preds_[gender],wgs_preds_n)\n",
    "    preds_n= np.array(new_df[:,4]) \n",
    "    preds_[gender] = np.append(preds_[gender],preds_n)"
   ]
  },
  {
   "cell_type": "code",
   "execution_count": 5,
   "metadata": {},
   "outputs": [],
   "source": [
    "delrecall_ = {\"male\":0,\"female\" :0}\n",
    "duprecall_ = {\"male\":0,\"female\" :0}\n",
    "delprec_ = {\"male\":0,\"female\" :0}\n",
    "dupprec_ = {\"male\":0,\"female\" :0}\n",
    "\n",
    "\n",
    "for gender in [\"male\",\"female\"]:\n",
    "    wgs_preds_[gender][wgs_preds_[gender] == \"<DEL>\"] = 2\n",
    "    wgs_preds_[gender][wgs_preds_[gender]== \"<DUP>\"] = 1\n",
    "    wgs_preds_[gender][wgs_preds_[gender] == \"<NO-CALL>\"] = 0\n",
    "    wgs_preds_[gender] = wgs_preds_[gender].astype(int)\n",
    "    \n",
    "    delcalls = wgs_preds_[gender] == 2\n",
    "    dupcalls = wgs_preds_[gender] == 1\n",
    "    nocallcalls = wgs_preds_[gender] == 0\n",
    "\n",
    "\n",
    "    preds_[gender] = preds_[gender].astype(int)\n",
    "\n",
    "    delpreds_ = preds_[gender] == 2\n",
    "    duppreds_  = preds_[gender] == 1\n",
    "    nocallpreds_  = preds_[gender] == 0\n",
    "\n",
    "    delrecall_[gender]  = np.sum(delpreds_ * delcalls) / np.sum(delcalls)\n",
    "    duprecall_[gender]  = np.sum(duppreds_ * dupcalls) / np.sum(dupcalls)\n",
    "\n",
    "\n",
    "    delprec_[gender]  = np.sum(delpreds_  * delcalls) / np.sum(delpreds_)\n",
    "    dupprec_[gender]  = np.sum(duppreds_  * dupcalls) / np.sum(duppreds_)\n"
   ]
  },
  {
   "cell_type": "code",
   "execution_count": 7,
   "metadata": {},
   "outputs": [
    {
     "name": "stdout",
     "output_type": "stream",
     "text": [
      "[0.9166666666666666, 0.004252029377657518, 0.2522326966013396, 0.4286015386236695]\n",
      "[0.5, 0.005504587155963303, 0.8416828120675339, 0.728732326863168]\n"
     ]
    },
    {
     "data": {
      "image/png": "[encoded data removed]",
      "text/plain": [
       "<Figure size 432x288 with 1 Axes>"
      ]
     },
     "metadata": {
      "needs_background": "light"
     },
     "output_type": "display_data"
    }
   ],
   "source": [
    "X = ['DEL Precision','DEL Recall', 'DUP Precision','DUP Recall',]\n",
    "FemaleResult = [delprec_[\"female\"], delrecall_[\"female\"], dupprec_[\"female\"], duprecall_[\"female\"]]\n",
    "MaleResult = [delprec_[\"male\"], delrecall_[\"male\"], dupprec_[\"male\"], duprecall_[\"male\"]]\n",
    "\n",
    "print(FemaleResult)\n",
    "print(MaleResult)\n",
    "\n",
    "  \n",
    "X_axis = np.arange(len(X))\n",
    "  \n",
    "plt.bar(X_axis - 0.2, FemaleResult, 0.4, label = 'Female')\n",
    "plt.bar(X_axis + 0.2, MaleResult, 0.4, label = 'Male')\n",
    "  \n",
    "plt.xticks(X_axis, X)\n",
    "plt.xlabel(\"Performance Metrics\")\n",
    "plt.ylabel(\"Performance Results\")\n",
    "plt.title(\"Performance Result for Chromosome X\")\n",
    "plt.legend()\n",
    "plt.show()"
   ]
  }
 ],
 "metadata": {
  "kernelspec": {
   "display_name": "base",
   "language": "python",
   "name": "python3"
  },
  "language_info": {
   "codemirror_mode": {
    "name": "ipython",
    "version": 3
   },
   "file_extension": ".py",
   "mimetype": "text/x-python",
   "name": "python",
   "nbconvert_exporter": "python",
   "pygments_lexer": "ipython3",
   "version": "3.8.8"
  },
  "orig_nbformat": 4
 },
 "nbformat": 4,
 "nbformat_minor": 2
}
